{
 "cells": [
  {
   "cell_type": "markdown",
   "metadata": {},
   "source": [
    "# Stock Price Prediction"
   ]
  },
  {
   "cell_type": "code",
   "execution_count": 1,
   "metadata": {
    "id": "jbPaUs664adg"
   },
   "outputs": [],
   "source": [
    "# importing necessary libraries\n",
    "import numpy as np\n",
    "import pandas as pd\n",
    "import matplotlib.pyplot as plt\n",
    "%matplotlib inline\n",
    "import tensorflow as tf"
   ]
  },
  {
   "cell_type": "code",
   "execution_count": 2,
   "metadata": {
    "id": "yJlllFpP5OFy"
   },
   "outputs": [],
   "source": [
    "# reading the dataset file\n",
    "df = pd.read_csv('1729258-1613615-Stock_Price_data_set_(1).csv')"
   ]
  },
  {
   "cell_type": "code",
   "execution_count": 3,
   "metadata": {
    "colab": {
     "base_uri": "https://localhost:8080/",
     "height": 206
    },
    "id": "_xqmpbRA52hJ",
    "outputId": "5b2bf96a-645c-4ec9-ad55-fe404cf12c9f"
   },
   "outputs": [
    {
     "data": {
      "text/html": [
       "<div>\n",
       "<style scoped>\n",
       "    .dataframe tbody tr th:only-of-type {\n",
       "        vertical-align: middle;\n",
       "    }\n",
       "\n",
       "    .dataframe tbody tr th {\n",
       "        vertical-align: top;\n",
       "    }\n",
       "\n",
       "    .dataframe thead th {\n",
       "        text-align: right;\n",
       "    }\n",
       "</style>\n",
       "<table border=\"1\" class=\"dataframe\">\n",
       "  <thead>\n",
       "    <tr style=\"text-align: right;\">\n",
       "      <th></th>\n",
       "      <th>Date</th>\n",
       "      <th>Open</th>\n",
       "      <th>High</th>\n",
       "      <th>Low</th>\n",
       "      <th>Close</th>\n",
       "      <th>Adj Close</th>\n",
       "      <th>Volume</th>\n",
       "    </tr>\n",
       "  </thead>\n",
       "  <tbody>\n",
       "    <tr>\n",
       "      <th>0</th>\n",
       "      <td>2018-02-05</td>\n",
       "      <td>262.000000</td>\n",
       "      <td>267.899994</td>\n",
       "      <td>250.029999</td>\n",
       "      <td>254.259995</td>\n",
       "      <td>254.259995</td>\n",
       "      <td>11896100</td>\n",
       "    </tr>\n",
       "    <tr>\n",
       "      <th>1</th>\n",
       "      <td>2018-02-06</td>\n",
       "      <td>247.699997</td>\n",
       "      <td>266.700012</td>\n",
       "      <td>245.000000</td>\n",
       "      <td>265.720001</td>\n",
       "      <td>265.720001</td>\n",
       "      <td>12595800</td>\n",
       "    </tr>\n",
       "    <tr>\n",
       "      <th>2</th>\n",
       "      <td>2018-02-07</td>\n",
       "      <td>266.579987</td>\n",
       "      <td>272.450012</td>\n",
       "      <td>264.329987</td>\n",
       "      <td>264.559998</td>\n",
       "      <td>264.559998</td>\n",
       "      <td>8981500</td>\n",
       "    </tr>\n",
       "    <tr>\n",
       "      <th>3</th>\n",
       "      <td>2018-02-08</td>\n",
       "      <td>267.079987</td>\n",
       "      <td>267.619995</td>\n",
       "      <td>250.000000</td>\n",
       "      <td>250.100006</td>\n",
       "      <td>250.100006</td>\n",
       "      <td>9306700</td>\n",
       "    </tr>\n",
       "    <tr>\n",
       "      <th>4</th>\n",
       "      <td>2018-02-09</td>\n",
       "      <td>253.850006</td>\n",
       "      <td>255.800003</td>\n",
       "      <td>236.110001</td>\n",
       "      <td>249.470001</td>\n",
       "      <td>249.470001</td>\n",
       "      <td>16906900</td>\n",
       "    </tr>\n",
       "  </tbody>\n",
       "</table>\n",
       "</div>"
      ],
      "text/plain": [
       "         Date        Open        High         Low       Close   Adj Close  \\\n",
       "0  2018-02-05  262.000000  267.899994  250.029999  254.259995  254.259995   \n",
       "1  2018-02-06  247.699997  266.700012  245.000000  265.720001  265.720001   \n",
       "2  2018-02-07  266.579987  272.450012  264.329987  264.559998  264.559998   \n",
       "3  2018-02-08  267.079987  267.619995  250.000000  250.100006  250.100006   \n",
       "4  2018-02-09  253.850006  255.800003  236.110001  249.470001  249.470001   \n",
       "\n",
       "     Volume  \n",
       "0  11896100  \n",
       "1  12595800  \n",
       "2   8981500  \n",
       "3   9306700  \n",
       "4  16906900  "
      ]
     },
     "execution_count": 3,
     "metadata": {},
     "output_type": "execute_result"
    }
   ],
   "source": [
    "df.head()"
   ]
  },
  {
   "cell_type": "code",
   "execution_count": 4,
   "metadata": {
    "colab": {
     "base_uri": "https://localhost:8080/",
     "height": 206
    },
    "id": "8QaLwK-B54Gi",
    "outputId": "55fb3bef-93fb-46d0-bf36-1c8b4d9ad53b"
   },
   "outputs": [
    {
     "data": {
      "text/html": [
       "<div>\n",
       "<style scoped>\n",
       "    .dataframe tbody tr th:only-of-type {\n",
       "        vertical-align: middle;\n",
       "    }\n",
       "\n",
       "    .dataframe tbody tr th {\n",
       "        vertical-align: top;\n",
       "    }\n",
       "\n",
       "    .dataframe thead th {\n",
       "        text-align: right;\n",
       "    }\n",
       "</style>\n",
       "<table border=\"1\" class=\"dataframe\">\n",
       "  <thead>\n",
       "    <tr style=\"text-align: right;\">\n",
       "      <th></th>\n",
       "      <th>Date</th>\n",
       "      <th>Open</th>\n",
       "      <th>High</th>\n",
       "      <th>Low</th>\n",
       "      <th>Close</th>\n",
       "      <th>Adj Close</th>\n",
       "      <th>Volume</th>\n",
       "    </tr>\n",
       "  </thead>\n",
       "  <tbody>\n",
       "    <tr>\n",
       "      <th>1004</th>\n",
       "      <td>2022-01-31</td>\n",
       "      <td>401.970001</td>\n",
       "      <td>427.700012</td>\n",
       "      <td>398.200012</td>\n",
       "      <td>427.140015</td>\n",
       "      <td>427.140015</td>\n",
       "      <td>20047500</td>\n",
       "    </tr>\n",
       "    <tr>\n",
       "      <th>1005</th>\n",
       "      <td>2022-02-01</td>\n",
       "      <td>432.959991</td>\n",
       "      <td>458.480011</td>\n",
       "      <td>425.540009</td>\n",
       "      <td>457.130005</td>\n",
       "      <td>457.130005</td>\n",
       "      <td>22542300</td>\n",
       "    </tr>\n",
       "    <tr>\n",
       "      <th>1006</th>\n",
       "      <td>2022-02-02</td>\n",
       "      <td>448.250000</td>\n",
       "      <td>451.980011</td>\n",
       "      <td>426.480011</td>\n",
       "      <td>429.480011</td>\n",
       "      <td>429.480011</td>\n",
       "      <td>14346000</td>\n",
       "    </tr>\n",
       "    <tr>\n",
       "      <th>1007</th>\n",
       "      <td>2022-02-03</td>\n",
       "      <td>421.440002</td>\n",
       "      <td>429.260010</td>\n",
       "      <td>404.279999</td>\n",
       "      <td>405.600006</td>\n",
       "      <td>405.600006</td>\n",
       "      <td>9905200</td>\n",
       "    </tr>\n",
       "    <tr>\n",
       "      <th>1008</th>\n",
       "      <td>2022-02-04</td>\n",
       "      <td>407.309998</td>\n",
       "      <td>412.769989</td>\n",
       "      <td>396.640015</td>\n",
       "      <td>410.170013</td>\n",
       "      <td>410.170013</td>\n",
       "      <td>7782400</td>\n",
       "    </tr>\n",
       "  </tbody>\n",
       "</table>\n",
       "</div>"
      ],
      "text/plain": [
       "            Date        Open        High         Low       Close   Adj Close  \\\n",
       "1004  2022-01-31  401.970001  427.700012  398.200012  427.140015  427.140015   \n",
       "1005  2022-02-01  432.959991  458.480011  425.540009  457.130005  457.130005   \n",
       "1006  2022-02-02  448.250000  451.980011  426.480011  429.480011  429.480011   \n",
       "1007  2022-02-03  421.440002  429.260010  404.279999  405.600006  405.600006   \n",
       "1008  2022-02-04  407.309998  412.769989  396.640015  410.170013  410.170013   \n",
       "\n",
       "        Volume  \n",
       "1004  20047500  \n",
       "1005  22542300  \n",
       "1006  14346000  \n",
       "1007   9905200  \n",
       "1008   7782400  "
      ]
     },
     "execution_count": 4,
     "metadata": {},
     "output_type": "execute_result"
    }
   ],
   "source": [
    "df.tail()"
   ]
  },
  {
   "cell_type": "code",
   "execution_count": 5,
   "metadata": {
    "colab": {
     "base_uri": "https://localhost:8080/"
    },
    "id": "9SpI_0Oz56aA",
    "outputId": "78aac12f-ba62-4210-a9fd-4eed1aafb46f"
   },
   "outputs": [
    {
     "data": {
      "text/plain": [
       "(1009, 7)"
      ]
     },
     "execution_count": 5,
     "metadata": {},
     "output_type": "execute_result"
    }
   ],
   "source": [
    "df.shape"
   ]
  },
  {
   "cell_type": "code",
   "execution_count": 6,
   "metadata": {
    "colab": {
     "base_uri": "https://localhost:8080/"
    },
    "id": "ESVvqaq96AW8",
    "outputId": "79060f5a-6f76-405a-f365-8b85c7a0c05e"
   },
   "outputs": [
    {
     "data": {
      "text/plain": [
       "RangeIndex(start=0, stop=1009, step=1)"
      ]
     },
     "execution_count": 6,
     "metadata": {},
     "output_type": "execute_result"
    }
   ],
   "source": [
    "df.index"
   ]
  },
  {
   "cell_type": "code",
   "execution_count": 7,
   "metadata": {
    "colab": {
     "base_uri": "https://localhost:8080/"
    },
    "id": "9WFXNeZb6CD4",
    "outputId": "37a4cd8a-d891-469d-84fc-e707be43868c"
   },
   "outputs": [
    {
     "data": {
      "text/plain": [
       "Index(['Date', 'Open', 'High', 'Low', 'Close', 'Adj Close', 'Volume'], dtype='object')"
      ]
     },
     "execution_count": 7,
     "metadata": {},
     "output_type": "execute_result"
    }
   ],
   "source": [
    "df.columns"
   ]
  },
  {
   "cell_type": "code",
   "execution_count": 8,
   "metadata": {
    "colab": {
     "base_uri": "https://localhost:8080/"
    },
    "id": "H_fwBonS6FaC",
    "outputId": "3a85dda9-0661-4cfc-e768-37ff60f4b13f"
   },
   "outputs": [
    {
     "name": "stdout",
     "output_type": "stream",
     "text": [
      "<class 'pandas.core.frame.DataFrame'>\n",
      "RangeIndex: 1009 entries, 0 to 1008\n",
      "Data columns (total 7 columns):\n",
      " #   Column     Non-Null Count  Dtype  \n",
      "---  ------     --------------  -----  \n",
      " 0   Date       1009 non-null   object \n",
      " 1   Open       1009 non-null   float64\n",
      " 2   High       1009 non-null   float64\n",
      " 3   Low        1009 non-null   float64\n",
      " 4   Close      1009 non-null   float64\n",
      " 5   Adj Close  1009 non-null   float64\n",
      " 6   Volume     1009 non-null   int64  \n",
      "dtypes: float64(5), int64(1), object(1)\n",
      "memory usage: 55.3+ KB\n"
     ]
    }
   ],
   "source": [
    "df.info()"
   ]
  },
  {
   "cell_type": "code",
   "execution_count": 9,
   "metadata": {
    "colab": {
     "base_uri": "https://localhost:8080/",
     "height": 300
    },
    "id": "Vy-12Crr6HxU",
    "outputId": "161b1a07-20a4-40b5-d502-c6885452914d"
   },
   "outputs": [
    {
     "data": {
      "text/html": [
       "<div>\n",
       "<style scoped>\n",
       "    .dataframe tbody tr th:only-of-type {\n",
       "        vertical-align: middle;\n",
       "    }\n",
       "\n",
       "    .dataframe tbody tr th {\n",
       "        vertical-align: top;\n",
       "    }\n",
       "\n",
       "    .dataframe thead th {\n",
       "        text-align: right;\n",
       "    }\n",
       "</style>\n",
       "<table border=\"1\" class=\"dataframe\">\n",
       "  <thead>\n",
       "    <tr style=\"text-align: right;\">\n",
       "      <th></th>\n",
       "      <th>Open</th>\n",
       "      <th>High</th>\n",
       "      <th>Low</th>\n",
       "      <th>Close</th>\n",
       "      <th>Adj Close</th>\n",
       "      <th>Volume</th>\n",
       "    </tr>\n",
       "  </thead>\n",
       "  <tbody>\n",
       "    <tr>\n",
       "      <th>count</th>\n",
       "      <td>1009.000000</td>\n",
       "      <td>1009.000000</td>\n",
       "      <td>1009.000000</td>\n",
       "      <td>1009.000000</td>\n",
       "      <td>1009.000000</td>\n",
       "      <td>1.009000e+03</td>\n",
       "    </tr>\n",
       "    <tr>\n",
       "      <th>mean</th>\n",
       "      <td>419.059673</td>\n",
       "      <td>425.320703</td>\n",
       "      <td>412.374044</td>\n",
       "      <td>419.000733</td>\n",
       "      <td>419.000733</td>\n",
       "      <td>7.570685e+06</td>\n",
       "    </tr>\n",
       "    <tr>\n",
       "      <th>std</th>\n",
       "      <td>108.537532</td>\n",
       "      <td>109.262960</td>\n",
       "      <td>107.555867</td>\n",
       "      <td>108.289999</td>\n",
       "      <td>108.289999</td>\n",
       "      <td>5.465535e+06</td>\n",
       "    </tr>\n",
       "    <tr>\n",
       "      <th>min</th>\n",
       "      <td>233.919998</td>\n",
       "      <td>250.649994</td>\n",
       "      <td>231.229996</td>\n",
       "      <td>233.880005</td>\n",
       "      <td>233.880005</td>\n",
       "      <td>1.144000e+06</td>\n",
       "    </tr>\n",
       "    <tr>\n",
       "      <th>25%</th>\n",
       "      <td>331.489990</td>\n",
       "      <td>336.299988</td>\n",
       "      <td>326.000000</td>\n",
       "      <td>331.619995</td>\n",
       "      <td>331.619995</td>\n",
       "      <td>4.091900e+06</td>\n",
       "    </tr>\n",
       "    <tr>\n",
       "      <th>50%</th>\n",
       "      <td>377.769989</td>\n",
       "      <td>383.010010</td>\n",
       "      <td>370.880005</td>\n",
       "      <td>378.670013</td>\n",
       "      <td>378.670013</td>\n",
       "      <td>5.934500e+06</td>\n",
       "    </tr>\n",
       "    <tr>\n",
       "      <th>75%</th>\n",
       "      <td>509.130005</td>\n",
       "      <td>515.630005</td>\n",
       "      <td>502.529999</td>\n",
       "      <td>509.079987</td>\n",
       "      <td>509.079987</td>\n",
       "      <td>9.322400e+06</td>\n",
       "    </tr>\n",
       "    <tr>\n",
       "      <th>max</th>\n",
       "      <td>692.349976</td>\n",
       "      <td>700.989990</td>\n",
       "      <td>686.090027</td>\n",
       "      <td>691.690002</td>\n",
       "      <td>691.690002</td>\n",
       "      <td>5.890430e+07</td>\n",
       "    </tr>\n",
       "  </tbody>\n",
       "</table>\n",
       "</div>"
      ],
      "text/plain": [
       "              Open         High          Low        Close    Adj Close  \\\n",
       "count  1009.000000  1009.000000  1009.000000  1009.000000  1009.000000   \n",
       "mean    419.059673   425.320703   412.374044   419.000733   419.000733   \n",
       "std     108.537532   109.262960   107.555867   108.289999   108.289999   \n",
       "min     233.919998   250.649994   231.229996   233.880005   233.880005   \n",
       "25%     331.489990   336.299988   326.000000   331.619995   331.619995   \n",
       "50%     377.769989   383.010010   370.880005   378.670013   378.670013   \n",
       "75%     509.130005   515.630005   502.529999   509.079987   509.079987   \n",
       "max     692.349976   700.989990   686.090027   691.690002   691.690002   \n",
       "\n",
       "             Volume  \n",
       "count  1.009000e+03  \n",
       "mean   7.570685e+06  \n",
       "std    5.465535e+06  \n",
       "min    1.144000e+06  \n",
       "25%    4.091900e+06  \n",
       "50%    5.934500e+06  \n",
       "75%    9.322400e+06  \n",
       "max    5.890430e+07  "
      ]
     },
     "execution_count": 9,
     "metadata": {},
     "output_type": "execute_result"
    }
   ],
   "source": [
    "df.describe()"
   ]
  },
  {
   "cell_type": "code",
   "execution_count": 10,
   "metadata": {
    "colab": {
     "base_uri": "https://localhost:8080/"
    },
    "id": "dJXzPrc56M4z",
    "outputId": "20b8aa32-4b5a-45e7-c21c-e5dfd3fcc6d3"
   },
   "outputs": [
    {
     "data": {
      "text/plain": [
       "Date         False\n",
       "Open         False\n",
       "High         False\n",
       "Low          False\n",
       "Close        False\n",
       "Adj Close    False\n",
       "Volume       False\n",
       "dtype: bool"
      ]
     },
     "execution_count": 10,
     "metadata": {},
     "output_type": "execute_result"
    }
   ],
   "source": [
    "df.isna().any()"
   ]
  },
  {
   "cell_type": "code",
   "execution_count": 11,
   "metadata": {
    "colab": {
     "base_uri": "https://localhost:8080/"
    },
    "id": "Mm-t1mTO6S8b",
    "outputId": "e6ba9efc-ca44-4098-c132-3b3e8c03300a"
   },
   "outputs": [
    {
     "data": {
      "text/plain": [
       "Date         0\n",
       "Open         0\n",
       "High         0\n",
       "Low          0\n",
       "Close        0\n",
       "Adj Close    0\n",
       "Volume       0\n",
       "dtype: int64"
      ]
     },
     "execution_count": 11,
     "metadata": {},
     "output_type": "execute_result"
    }
   ],
   "source": [
    "df.isna().sum()"
   ]
  },
  {
   "cell_type": "code",
   "execution_count": 12,
   "metadata": {
    "id": "W3jfoccE6VtU"
   },
   "outputs": [],
   "source": [
    "df1 = df['Close']"
   ]
  },
  {
   "cell_type": "code",
   "execution_count": 13,
   "metadata": {
    "colab": {
     "base_uri": "https://localhost:8080/"
    },
    "id": "2mCwTEaO6wOb",
    "outputId": "8186abb6-0110-4cdd-8c94-8ec86d4e4088"
   },
   "outputs": [
    {
     "data": {
      "text/plain": [
       "0       254.259995\n",
       "1       265.720001\n",
       "2       264.559998\n",
       "3       250.100006\n",
       "4       249.470001\n",
       "           ...    \n",
       "1004    427.140015\n",
       "1005    457.130005\n",
       "1006    429.480011\n",
       "1007    405.600006\n",
       "1008    410.170013\n",
       "Name: Close, Length: 1009, dtype: float64"
      ]
     },
     "execution_count": 13,
     "metadata": {},
     "output_type": "execute_result"
    }
   ],
   "source": [
    "df1"
   ]
  },
  {
   "cell_type": "code",
   "execution_count": 14,
   "metadata": {
    "colab": {
     "base_uri": "https://localhost:8080/",
     "height": 517
    },
    "id": "c3xCF64w67Gy",
    "outputId": "1e7d9c8b-3a4e-4469-e485-0228be09ed62"
   },
   "outputs": [
    {
     "data": {
      "image/png": "[encoded data removed]",
      "text/plain": [
       "<Figure size 1200x600 with 1 Axes>"
      ]
     },
     "metadata": {},
     "output_type": "display_data"
    }
   ],
   "source": [
    "plt.figure(figsize=(12, 6))\n",
    "plt.title('Close Price History')\n",
    "plt.plot(df1)\n",
    "plt.xlabel('Date')\n",
    "plt.ylabel('Close Price')\n",
    "plt.xticks(range(0, len(df['Date']), 50), df['Date'][::50], rotation=45)\n",
    "plt.show()"
   ]
  },
  {
   "cell_type": "markdown",
   "metadata": {
    "id": "iQhZ8NlH1JU1"
   },
   "source": [
    "## Splitting Data into train and test data"
   ]
  },
  {
   "cell_type": "code",
   "execution_count": 15,
   "metadata": {
    "colab": {
     "base_uri": "https://localhost:8080/"
    },
    "id": "44_t0ewA7_xJ",
    "outputId": "bb974ff4-dcc3-489c-e833-96fa1c0c2bc0"
   },
   "outputs": [
    {
     "name": "stdout",
     "output_type": "stream",
     "text": [
      "[[0.04451626]\n",
      " [0.06954849]\n",
      " [0.06701469]\n",
      " ...\n",
      " [0.4272515 ]\n",
      " [0.37509011]\n",
      " [0.38507243]]\n"
     ]
    }
   ],
   "source": [
    "from sklearn.preprocessing import MinMaxScaler\n",
    "scaler=MinMaxScaler(feature_range=(0,1))\n",
    "df1=scaler.fit_transform(np.array(df1).reshape(-1,1))\n",
    "print(df1)"
   ]
  },
  {
   "cell_type": "code",
   "execution_count": 16,
   "metadata": {
    "id": "sUdvci2Y8S_H"
   },
   "outputs": [],
   "source": [
    "train_size=int(len(df1)*0.70)\n",
    "test_size=len(df1)-train_size\n",
    "data_train,data_test=df1[0:train_size,:],df1[train_size:len(df1),:1]"
   ]
  },
  {
   "cell_type": "code",
   "execution_count": 17,
   "metadata": {
    "colab": {
     "base_uri": "https://localhost:8080/"
    },
    "id": "fU9LlMgK8u0y",
    "outputId": "e10e36bc-db10-4bd0-9885-46b11d32ff41"
   },
   "outputs": [
    {
     "data": {
      "text/plain": [
       "(706, 303)"
      ]
     },
     "execution_count": 17,
     "metadata": {},
     "output_type": "execute_result"
    }
   ],
   "source": [
    "train_size,test_size"
   ]
  },
  {
   "cell_type": "code",
   "execution_count": 18,
   "metadata": {
    "colab": {
     "base_uri": "https://localhost:8080/"
    },
    "id": "jYQCf84w9Sqq",
    "outputId": "a5db053e-94d1-4022-e36d-1a1a13f15cd5"
   },
   "outputs": [
    {
     "data": {
      "text/plain": [
       "array([[0.04451626],\n",
       "       [0.06954849],\n",
       "       [0.06701469],\n",
       "       [0.03542955],\n",
       "       [0.03405342],\n",
       "       [0.05257641],\n",
       "       [0.05327534],\n",
       "       [0.0701601 ],\n",
       "       [0.10133021],\n",
       "       [0.09750767],\n",
       "       [0.09757319],\n",
       "       [0.10301218],\n",
       "       [0.09667768],\n",
       "       [0.11369343],\n",
       "       [0.13167034],\n",
       "       [0.12391599],\n",
       "       [0.12559796],\n",
       "       [0.12343551],\n",
       "       [0.14672022],\n",
       "       [0.1771914 ],\n",
       "       [0.19951508],\n",
       "       [0.19064677],\n",
       "       [0.18156003],\n",
       "       [0.2131015 ],\n",
       "       [0.19095254],\n",
       "       [0.17911361],\n",
       "       [0.19149862],\n",
       "       [0.19049385],\n",
       "       [0.18472731],\n",
       "       [0.17387127],\n",
       "       [0.18265218],\n",
       "       [0.18042421],\n",
       "       [0.15906164],\n",
       "       [0.14647998],\n",
       "       [0.18887749],\n",
       "       [0.1459339 ],\n",
       "       [0.11334393],\n",
       "       [0.13426968],\n",
       "       [0.10137394],\n",
       "       [0.10875693],\n",
       "       [0.12026823],\n",
       "       [0.13125532],\n",
       "       [0.12007165],\n",
       "       [0.12243068],\n",
       "       [0.14021101],\n",
       "       [0.15244317],\n",
       "       [0.16463161],\n",
       "       [0.16987394],\n",
       "       [0.16142066],\n",
       "       [0.22319301],\n",
       "       [0.21982915],\n",
       "       [0.21585376],\n",
       "       [0.20508505],\n",
       "       [0.18525152],\n",
       "       [0.15976057],\n",
       "       [0.15700838],\n",
       "       [0.17496343],\n",
       "       [0.17011425],\n",
       "       [0.17164323],\n",
       "       [0.17347804],\n",
       "       [0.1736091 ],\n",
       "       [0.16996133],\n",
       "       [0.18830954],\n",
       "       [0.20178678],\n",
       "       [0.20316291],\n",
       "       [0.21061135],\n",
       "       [0.20908237],\n",
       "       [0.2022236 ],\n",
       "       [0.20674514],\n",
       "       [0.20150281],\n",
       "       [0.20600248],\n",
       "       [0.19951508],\n",
       "       [0.19724337],\n",
       "       [0.21393155],\n",
       "       [0.21349466],\n",
       "       [0.24210916],\n",
       "       [0.25209149],\n",
       "       [0.25646011],\n",
       "       [0.25305259],\n",
       "       [0.26137482],\n",
       "       [0.25713724],\n",
       "       [0.27533254],\n",
       "       [0.27943906],\n",
       "       [0.28815444],\n",
       "       [0.29175861],\n",
       "       [0.27854348],\n",
       "       [0.27673053],\n",
       "       [0.27865273],\n",
       "       [0.28385134],\n",
       "       [0.31901878],\n",
       "       [0.34728379],\n",
       "       [0.34533979],\n",
       "       [0.34188853],\n",
       "       [0.37373584],\n",
       "       [0.39946704],\n",
       "       [0.39658373],\n",
       "       [0.38708196],\n",
       "       [0.32895744],\n",
       "       [0.36152555],\n",
       "       [0.34186674],\n",
       "       [0.35285382],\n",
       "       [0.34413837],\n",
       "       [0.35888248],\n",
       "       [0.34215064],\n",
       "       [0.35934124],\n",
       "       [0.38087852],\n",
       "       [0.40429435],\n",
       "       [0.39699876],\n",
       "       [0.40359536],\n",
       "       [0.39234616],\n",
       "       [0.35368381],\n",
       "       [0.36390644],\n",
       "       [0.31803588],\n",
       "       [0.30853411],\n",
       "       [0.28472512],\n",
       "       [0.27777896],\n",
       "       [0.28129573],\n",
       "       [0.26963151],\n",
       "       [0.28175442],\n",
       "       [0.28223497],\n",
       "       [0.26502258],\n",
       "       [0.22079026],\n",
       "       [0.22622924],\n",
       "       [0.22826063],\n",
       "       [0.24162861],\n",
       "       [0.23854872],\n",
       "       [0.25565193],\n",
       "       [0.25763959],\n",
       "       [0.24842179],\n",
       "       [0.25224434],\n",
       "       [0.24462111],\n",
       "       [0.23466065],\n",
       "       [0.22631656],\n",
       "       [0.20209255],\n",
       "       [0.19344269],\n",
       "       [0.18107948],\n",
       "       [0.20499772],\n",
       "       [0.22747425],\n",
       "       [0.24149756],\n",
       "       [0.22998626],\n",
       "       [0.27290798],\n",
       "       [0.28548958],\n",
       "       [0.29403024],\n",
       "       [0.29304734],\n",
       "       [0.29946923],\n",
       "       [0.29226096],\n",
       "       [0.28334899],\n",
       "       [0.23437668],\n",
       "       [0.24590985],\n",
       "       [0.25075902],\n",
       "       [0.25016928],\n",
       "       [0.26659529],\n",
       "       [0.29721939],\n",
       "       [0.29328759],\n",
       "       [0.28544591],\n",
       "       [0.25440685],\n",
       "       [0.29219543],\n",
       "       [0.29068825],\n",
       "       [0.28719334],\n",
       "       [0.27808479],\n",
       "       [0.29647666],\n",
       "       [0.2960835 ],\n",
       "       [0.31454097],\n",
       "       [0.32072254],\n",
       "       [0.3063498 ],\n",
       "       [0.32229525],\n",
       "       [0.3129246 ],\n",
       "       [0.31272795],\n",
       "       [0.28345818],\n",
       "       [0.25659117],\n",
       "       [0.25167646],\n",
       "       [0.26611473],\n",
       "       [0.2009786 ],\n",
       "       [0.19051572],\n",
       "       [0.23083811],\n",
       "       [0.21679299],\n",
       "       [0.24577879],\n",
       "       [0.28575175],\n",
       "       [0.24645592],\n",
       "       [0.21578823],\n",
       "       [0.20895132],\n",
       "       [0.21685852],\n",
       "       [0.14842398],\n",
       "       [0.17253881],\n",
       "       [0.14405536],\n",
       "       [0.11131253],\n",
       "       [0.11343132],\n",
       "       [0.14831479],\n",
       "       [0.18239008],\n",
       "       [0.16430397],\n",
       "       [0.1781525 ],\n",
       "       [0.16810465],\n",
       "       [0.20449531],\n",
       "       [0.18356962],\n",
       "       [0.15200628],\n",
       "       [0.13147376],\n",
       "       [0.13219456],\n",
       "       [0.11544092],\n",
       "       [0.12271465],\n",
       "       [0.11430503],\n",
       "       [0.08020795],\n",
       "       [0.07230075],\n",
       "       [0.06170682],\n",
       "       [0.05447675],\n",
       "       [0.06017778],\n",
       "       [0.07153623],\n",
       "       [0.10652889],\n",
       "       [0.1198532 ],\n",
       "       [0.11413032],\n",
       "       [0.12323886],\n",
       "       [0.0905397 ],\n",
       "       [0.1070313 ],\n",
       "       [0.06828162],\n",
       "       [0.07824208],\n",
       "       [0.06867478],\n",
       "       [0.0895568 ],\n",
       "       [0.09204688],\n",
       "       [0.07199491],\n",
       "       [0.06317027],\n",
       "       [0.08095061],\n",
       "       [0.071842  ],\n",
       "       [0.0583211 ],\n",
       "       [0.02732573],\n",
       "       [0.        ],\n",
       "       [0.04322752],\n",
       "       [0.04737774],\n",
       "       [0.04849169],\n",
       "       [0.07378607],\n",
       "       [0.07378607],\n",
       "       [0.08151855],\n",
       "       [0.13911885],\n",
       "       [0.17793406],\n",
       "       [0.1887027 ],\n",
       "       [0.18802557],\n",
       "       [0.19829187],\n",
       "       [0.22653501],\n",
       "       [0.21637797],\n",
       "       [0.26377757],\n",
       "       [0.25667856],\n",
       "       [0.26061029],\n",
       "       [0.22983334],\n",
       "       [0.19938402],\n",
       "       [0.19245972],\n",
       "       [0.20268235],\n",
       "       [0.22753977],\n",
       "       [0.2223193 ],\n",
       "       [0.20755333],\n",
       "       [0.23324086],\n",
       "       [0.23070705],\n",
       "       [0.23147157],\n",
       "       [0.2565693 ],\n",
       "       [0.26633318],\n",
       "       [0.25842598],\n",
       "       [0.2420873 ],\n",
       "       [0.24833447],\n",
       "       [0.24431534],\n",
       "       [0.27541993],\n",
       "       [0.25750854],\n",
       "       [0.27345406],\n",
       "       [0.26864855],\n",
       "       [0.27967936],\n",
       "       [0.27528887],\n",
       "       [0.26886699],\n",
       "       [0.28208205],\n",
       "       [0.28402612],\n",
       "       [0.28634149],\n",
       "       [0.28175442],\n",
       "       [0.27133527],\n",
       "       [0.26963151],\n",
       "       [0.25591404],\n",
       "       [0.26303485],\n",
       "       [0.27463354],\n",
       "       [0.25932156],\n",
       "       [0.25276862],\n",
       "       [0.27299531],\n",
       "       [0.26733795],\n",
       "       [0.27812845],\n",
       "       [0.27290798],\n",
       "       [0.27867453],\n",
       "       [0.28299949],\n",
       "       [0.27282059],\n",
       "       [0.30873069],\n",
       "       [0.3145191 ],\n",
       "       [0.27769163],\n",
       "       [0.28909374],\n",
       "       [0.27541993],\n",
       "       [0.26100345],\n",
       "       [0.26371198],\n",
       "       [0.26797142],\n",
       "       [0.29068825],\n",
       "       [0.29234835],\n",
       "       [0.2967825 ],\n",
       "       [0.29269785],\n",
       "       [0.28747731],\n",
       "       [0.27856534],\n",
       "       [0.28577355],\n",
       "       [0.28404799],\n",
       "       [0.29219543],\n",
       "       [0.25613248],\n",
       "       [0.25117405],\n",
       "       [0.27430591],\n",
       "       [0.26399595],\n",
       "       [0.27624998],\n",
       "       [0.31336142],\n",
       "       [0.32330008],\n",
       "       [0.30656824],\n",
       "       [0.29368075],\n",
       "       [0.3079225 ],\n",
       "       [0.30132584],\n",
       "       [0.29850813],\n",
       "       [0.31657236],\n",
       "       [0.31711844],\n",
       "       [0.33015879],\n",
       "       [0.31626659],\n",
       "       [0.29833334],\n",
       "       [0.28503089],\n",
       "       [0.28149231],\n",
       "       [0.27775716],\n",
       "       [0.24328871],\n",
       "       [0.24405317],\n",
       "       [0.26454203],\n",
       "       [0.27397827],\n",
       "       [0.26336255],\n",
       "       [0.24951395],\n",
       "       [0.26296932],\n",
       "       [0.27489571],\n",
       "       [0.25846964],\n",
       "       [0.2632315 ],\n",
       "       [0.26469495],\n",
       "       [0.25187304],\n",
       "       [0.25768332],\n",
       "       [0.23896375],\n",
       "       [0.22443809],\n",
       "       [0.26106898],\n",
       "       [0.26615846],\n",
       "       [0.26921649],\n",
       "       [0.2773858 ],\n",
       "       [0.25803282],\n",
       "       [0.25641638],\n",
       "       [0.24394398],\n",
       "       [0.23929138],\n",
       "       [0.23120947],\n",
       "       [0.25499659],\n",
       "       [0.26919462],\n",
       "       [0.28317421],\n",
       "       [0.2868657 ],\n",
       "       [0.29560295],\n",
       "       [0.29960028],\n",
       "       [0.27614072],\n",
       "       [0.28029097],\n",
       "       [0.29737224],\n",
       "       [0.29147464],\n",
       "       [0.30737643],\n",
       "       [0.30918938],\n",
       "       [0.32292872],\n",
       "       [0.32037305],\n",
       "       [0.31078395],\n",
       "       [0.31901878],\n",
       "       [0.32135601],\n",
       "       [0.31807954],\n",
       "       [0.30442759],\n",
       "       [0.28990193],\n",
       "       [0.28856946],\n",
       "       [0.28081518],\n",
       "       [0.19949321],\n",
       "       [0.17740985],\n",
       "       [0.1676241 ],\n",
       "       [0.16037217],\n",
       "       [0.18361328],\n",
       "       [0.2022236 ],\n",
       "       [0.22258141],\n",
       "       [0.21585376],\n",
       "       [0.20106592],\n",
       "       [0.19464403],\n",
       "       [0.18702081],\n",
       "       [0.18555729],\n",
       "       [0.16109303],\n",
       "       [0.16648828],\n",
       "       [0.15379744],\n",
       "       [0.17915727],\n",
       "       [0.16393261],\n",
       "       [0.16808279],\n",
       "       [0.17125007],\n",
       "       [0.14248265],\n",
       "       [0.13516526],\n",
       "       [0.15054277],\n",
       "       [0.16491558],\n",
       "       [0.14222054],\n",
       "       [0.13964307],\n",
       "       [0.13772086],\n",
       "       [0.12572901],\n",
       "       [0.13346149],\n",
       "       [0.12483343],\n",
       "       [0.1264498 ],\n",
       "       [0.13739323],\n",
       "       [0.13077477],\n",
       "       [0.12103275],\n",
       "       [0.12590373],\n",
       "       [0.12968261],\n",
       "       [0.12295496],\n",
       "       [0.1320635 ],\n",
       "       [0.1181931 ],\n",
       "       [0.11880471],\n",
       "       [0.12009345],\n",
       "       [0.13164848],\n",
       "       [0.13195431],\n",
       "       [0.14136869],\n",
       "       [0.12599112],\n",
       "       [0.11515695],\n",
       "       [0.08053558],\n",
       "       [0.06998538],\n",
       "       [0.04523709],\n",
       "       [0.06742971],\n",
       "       [0.0642843 ],\n",
       "       [0.06378188],\n",
       "       [0.07369867],\n",
       "       [0.07797991],\n",
       "       [0.07459425],\n",
       "       [0.07485636],\n",
       "       [0.0849916 ],\n",
       "       [0.08863936],\n",
       "       [0.08047006],\n",
       "       [0.0735021 ],\n",
       "       [0.10178897],\n",
       "       [0.10714049],\n",
       "       [0.11281972],\n",
       "       [0.1100238 ],\n",
       "       [0.11445795],\n",
       "       [0.12990105],\n",
       "       [0.09047418],\n",
       "       [0.09648104],\n",
       "       [0.07166728],\n",
       "       [0.0816714 ],\n",
       "       [0.08217382],\n",
       "       [0.09379437],\n",
       "       [0.10480326],\n",
       "       [0.10338347],\n",
       "       [0.12575087],\n",
       "       [0.11692623],\n",
       "       [0.11561563],\n",
       "       [0.12883069],\n",
       "       [0.1182805 ],\n",
       "       [0.11950371],\n",
       "       [0.12164436],\n",
       "       [0.12601298],\n",
       "       [0.131714  ],\n",
       "       [0.12697408],\n",
       "       [0.10753365],\n",
       "       [0.12175354],\n",
       "       [0.13357068],\n",
       "       [0.15004042],\n",
       "       [0.15010594],\n",
       "       [0.15569778],\n",
       "       [0.16996133],\n",
       "       [0.16731833],\n",
       "       [0.17839275],\n",
       "       [0.17170876],\n",
       "       [0.1792228 ],\n",
       "       [0.17644874],\n",
       "       [0.16624798],\n",
       "       [0.15788209],\n",
       "       [0.15386296],\n",
       "       [0.15067382],\n",
       "       [0.16048143],\n",
       "       [0.1498875 ],\n",
       "       [0.12939864],\n",
       "       [0.14208949],\n",
       "       [0.14101919],\n",
       "       [0.14115025],\n",
       "       [0.15362265],\n",
       "       [0.1782399 ],\n",
       "       [0.18986039],\n",
       "       [0.21480526],\n",
       "       [0.22502783],\n",
       "       [0.21672747],\n",
       "       [0.21694591],\n",
       "       [0.21570084],\n",
       "       [0.20796835],\n",
       "       [0.19534303],\n",
       "       [0.19591097],\n",
       "       [0.20954106],\n",
       "       [0.20100039],\n",
       "       [0.2226906 ],\n",
       "       [0.21159432],\n",
       "       [0.23018284],\n",
       "       [0.2223193 ],\n",
       "       [0.20788096],\n",
       "       [0.22944018],\n",
       "       [0.22893776],\n",
       "       [0.22976781],\n",
       "       [0.22878485],\n",
       "       [0.23107841],\n",
       "       [0.22767083],\n",
       "       [0.20121884],\n",
       "       [0.25276862],\n",
       "       [0.26054477],\n",
       "       [0.23809004],\n",
       "       [0.25040953],\n",
       "       [0.23870164],\n",
       "       [0.24870576],\n",
       "       [0.24291735],\n",
       "       [0.27111683],\n",
       "       [0.29516613],\n",
       "       [0.29660778],\n",
       "       [0.29066645],\n",
       "       [0.29027322],\n",
       "       [0.29966581],\n",
       "       [0.30538869],\n",
       "       [0.31919356],\n",
       "       [0.32222972],\n",
       "       [0.32004541],\n",
       "       [0.33616565],\n",
       "       [0.3326926 ],\n",
       "       [0.33227757],\n",
       "       [0.31932462],\n",
       "       [0.294489  ],\n",
       "       [0.27568203],\n",
       "       [0.3175116 ],\n",
       "       [0.30106373],\n",
       "       [0.29520979],\n",
       "       [0.3214652 ],\n",
       "       [0.29464185],\n",
       "       [0.32745026],\n",
       "       [0.30340096],\n",
       "       [0.29507874],\n",
       "       [0.24597537],\n",
       "       [0.28450667],\n",
       "       [0.25346761],\n",
       "       [0.17773748],\n",
       "       [0.22371723],\n",
       "       [0.14189291],\n",
       "       [0.18756688],\n",
       "       [0.17821803],\n",
       "       [0.21439024],\n",
       "       [0.21613766],\n",
       "       [0.27607519],\n",
       "       [0.26963151],\n",
       "       [0.23701975],\n",
       "       [0.28201653],\n",
       "       [0.26919462],\n",
       "       [0.2994255 ],\n",
       "       [0.30934229],\n",
       "       [0.28439742],\n",
       "       [0.29750329],\n",
       "       [0.27932987],\n",
       "       [0.31908431],\n",
       "       [0.30230881],\n",
       "       [0.299775  ],\n",
       "       [0.29890128],\n",
       "       [0.3556934 ],\n",
       "       [0.39245535],\n",
       "       [0.4212883 ],\n",
       "       [0.44841749],\n",
       "       [0.41300974],\n",
       "       [0.44474779],\n",
       "       [0.4367532 ],\n",
       "       [0.40964594],\n",
       "       [0.42117911],\n",
       "       [0.41744389],\n",
       "       [0.40955855],\n",
       "       [0.37122383],\n",
       "       [0.38882945],\n",
       "       [0.40621656],\n",
       "       [0.39621237],\n",
       "       [0.42434632],\n",
       "       [0.41676676],\n",
       "       [0.43769251],\n",
       "       [0.44265087],\n",
       "       [0.44051022],\n",
       "       [0.45136626],\n",
       "       [0.43236278],\n",
       "       [0.44645155],\n",
       "       [0.45448987],\n",
       "       [0.48122583],\n",
       "       [0.47770906],\n",
       "       [0.47434526],\n",
       "       [0.46698414],\n",
       "       [0.44203927],\n",
       "       [0.426902  ],\n",
       "       [0.39512021],\n",
       "       [0.40630395],\n",
       "       [0.39221511],\n",
       "       [0.40595445],\n",
       "       [0.41947535],\n",
       "       [0.42251151],\n",
       "       [0.41084729],\n",
       "       [0.39415911],\n",
       "       [0.40567048],\n",
       "       [0.40543017],\n",
       "       [0.43723375],\n",
       "       [0.43817306],\n",
       "       [0.41868896],\n",
       "       [0.40232848],\n",
       "       [0.41855791],\n",
       "       [0.44177716],\n",
       "       [0.46720252],\n",
       "       [0.47178959],\n",
       "       [0.4801992 ],\n",
       "       [0.51147857],\n",
       "       [0.5075905 ],\n",
       "       [0.48922042],\n",
       "       [0.50682598],\n",
       "       [0.45765709],\n",
       "       [0.46604484],\n",
       "       [0.48308251],\n",
       "       [0.54992248],\n",
       "       [0.53080975],\n",
       "       [0.56776828],\n",
       "       [0.56634849],\n",
       "       [0.58736156],\n",
       "       [0.59823946],\n",
       "       [0.68773067],\n",
       "       [0.63698914],\n",
       "       [0.63563487],\n",
       "       [0.6320963 ],\n",
       "       [0.64111752],\n",
       "       [0.56597712],\n",
       "       [0.58655338],\n",
       "       [0.5596645 ],\n",
       "       [0.55905289],\n",
       "       [0.53231686],\n",
       "       [0.5385859 ],\n",
       "       [0.5717874 ],\n",
       "       [0.55619145],\n",
       "       [0.54738867],\n",
       "       [0.55027191],\n",
       "       [0.55699963],\n",
       "       [0.57827481],\n",
       "       [0.60234598],\n",
       "       [0.58589804],\n",
       "       [0.6011227 ],\n",
       "       [0.56977787],\n",
       "       [0.54498591],\n",
       "       [0.50905395],\n",
       "       [0.527708  ],\n",
       "       [0.54050804],\n",
       "       [0.54345687],\n",
       "       [0.54273608],\n",
       "       [0.5635307 ],\n",
       "       [0.54749786],\n",
       "       [0.57670211],\n",
       "       [0.56449181],\n",
       "       [0.55684672],\n",
       "       [0.56071292],\n",
       "       [0.6851096 ],\n",
       "       [0.6386711 ],\n",
       "       [0.63347243],\n",
       "       [0.64585744],\n",
       "       [0.70481201],\n",
       "       [0.69670829],\n",
       "       [0.63753522],\n",
       "       [0.61634736],\n",
       "       [0.59662302],\n",
       "       [0.5817042 ],\n",
       "       [0.53906645],\n",
       "       [0.54203708],\n",
       "       [0.52943362],\n",
       "       [0.57253006],\n",
       "       [0.54603434],\n",
       "       [0.51619669],\n",
       "       [0.51567241],\n",
       "       [0.55365764],\n",
       "       [0.56200172],\n",
       "       [0.5170922 ],\n",
       "       [0.52248746],\n",
       "       [0.54389376],\n",
       "       [0.56086584],\n",
       "       [0.56704748],\n",
       "       [0.5813547 ],\n",
       "       [0.64137963],\n",
       "       [0.58797317],\n",
       "       [0.62639528],\n",
       "       [0.59411108],\n",
       "       [0.65699738],\n",
       "       [0.65072841],\n",
       "       [0.66743845],\n",
       "       [0.66824664],\n",
       "       [0.69943868],\n",
       "       [0.67182894],\n",
       "       [0.67289924],\n",
       "       [0.6485441 ],\n",
       "       [0.64839118],\n",
       "       [0.63681436],\n",
       "       [0.55737093],\n",
       "       [0.54902691],\n",
       "       [0.55568903],\n",
       "       [0.55560164],\n",
       "       [0.55710882],\n",
       "       [0.55123302],\n",
       "       [0.59048511],\n",
       "       [0.52829774],\n",
       "       [0.54660228],\n",
       "       [0.55337367],\n",
       "       [0.57462705],\n",
       "       [0.61134533],\n",
       "       [0.61346405],\n",
       "       [0.51685196],\n",
       "       [0.53812714],\n",
       "       [0.56110615],\n",
       "       [0.5523907 ],\n",
       "       [0.54380637],\n",
       "       [0.53563706],\n",
       "       [0.53897906],\n",
       "       [0.54151287],\n",
       "       [0.5478037 ],\n",
       "       [0.55560164]])"
      ]
     },
     "execution_count": 18,
     "metadata": {},
     "output_type": "execute_result"
    }
   ],
   "source": [
    "data_train"
   ]
  },
  {
   "cell_type": "code",
   "execution_count": 19,
   "metadata": {
    "id": "nAYYk9Tj9VRC"
   },
   "outputs": [],
   "source": [
    "# Prepare the data for LSTM\n",
    "def create_dataset(data, lookback):\n",
    "    X, Y = [], []\n",
    "    for i in range(len(data) - lookback - 1):\n",
    "        X.append(data[i:(i + lookback), 0])\n",
    "        Y.append(data[i + lookback, 0])\n",
    "    return np.array(X), np.array(Y)"
   ]
  },
  {
   "cell_type": "code",
   "execution_count": 20,
   "metadata": {
    "id": "8GVQhLfM9r3p"
   },
   "outputs": [],
   "source": [
    "lookback = 100\n",
    "X_train, Y_train = create_dataset(data_train, lookback)\n",
    "X_test, Y_test = create_dataset(data_test, lookback)"
   ]
  },
  {
   "cell_type": "code",
   "execution_count": 21,
   "metadata": {
    "colab": {
     "base_uri": "https://localhost:8080/"
    },
    "id": "zkD2lYal98Or",
    "outputId": "6e4a831b-f059-4a25-8986-f5807a166c7b"
   },
   "outputs": [
    {
     "name": "stdout",
     "output_type": "stream",
     "text": [
      "(605, 100)\n",
      "(605,)\n"
     ]
    }
   ],
   "source": [
    "print(X_train.shape)\n",
    "print(Y_train.shape)"
   ]
  },
  {
   "cell_type": "code",
   "execution_count": 22,
   "metadata": {
    "colab": {
     "base_uri": "https://localhost:8080/"
    },
    "id": "hUWn-uBU-S4C",
    "outputId": "ad17b330-b542-4158-cd18-6d574d87b112"
   },
   "outputs": [
    {
     "name": "stdout",
     "output_type": "stream",
     "text": [
      "(202, 100)\n",
      "(202,)\n"
     ]
    }
   ],
   "source": [
    "print(X_test.shape)\n",
    "print(Y_test.shape)"
   ]
  },
  {
   "cell_type": "code",
   "execution_count": 23,
   "metadata": {
    "id": "4Kn70NNQ-XQq"
   },
   "outputs": [],
   "source": [
    "# reshape input to be [samples, time steps, features] which is required for LSTM\n",
    "X_train = X_train.reshape(X_train.shape[0], X_train.shape[1] , 1)\n",
    "X_test = X_test.reshape(X_test.shape[0], X_test.shape[1] , 1)"
   ]
  },
  {
   "cell_type": "markdown",
   "metadata": {
    "id": "hZq7qQ3d09V5"
   },
   "source": [
    "## Model 1 : LSTM"
   ]
  },
  {
   "cell_type": "code",
   "execution_count": 24,
   "metadata": {
    "id": "2BhsTpqg-1lL"
   },
   "outputs": [],
   "source": [
    "# Create the LSTM model\n",
    "from tensorflow.keras.models import Sequential\n",
    "from tensorflow.keras.layers import LSTM, Dense"
   ]
  },
  {
   "cell_type": "code",
   "execution_count": 25,
   "metadata": {
    "id": "Z_YDOJBe_Kf0"
   },
   "outputs": [],
   "source": [
    "# Build the LSTM model\n",
    "model = Sequential()\n",
    "model.add(LSTM(units=50, return_sequences=True, input_shape=(lookback, 1)))\n",
    "model.add(LSTM(units=50))\n",
    "model.add(Dense(1))\n",
    "model.compile(optimizer='adam', loss='mean_squared_error')"
   ]
  },
  {
   "cell_type": "code",
   "execution_count": 26,
   "metadata": {
    "colab": {
     "base_uri": "https://localhost:8080/"
    },
    "id": "Ejyb3q10_Zz4",
    "outputId": "1256b14b-2b99-475d-c044-2ec718ab3174"
   },
   "outputs": [
    {
     "name": "stdout",
     "output_type": "stream",
     "text": [
      "Model: \"sequential\"\n",
      "_________________________________________________________________\n",
      " Layer (type)                Output Shape              Param #   \n",
      "=================================================================\n",
      " lstm (LSTM)                 (None, 100, 50)           10400     \n",
      "                                                                 \n",
      " lstm_1 (LSTM)               (None, 50)                20200     \n",
      "                                                                 \n",
      " dense (Dense)               (None, 1)                 51        \n",
      "                                                                 \n",
      "=================================================================\n",
      "Total params: 30651 (119.73 KB)\n",
      "Trainable params: 30651 (119.73 KB)\n",
      "Non-trainable params: 0 (0.00 Byte)\n",
      "_________________________________________________________________\n"
     ]
    }
   ],
   "source": [
    "model.summary()"
   ]
  },
  {
   "cell_type": "code",
   "execution_count": 27,
   "metadata": {
    "colab": {
     "base_uri": "https://localhost:8080/"
    },
    "id": "C4-ukBTR_dHr",
    "outputId": "d27425ad-f3ef-4e7e-a672-1b6c4ef0e6f8"
   },
   "outputs": [
    {
     "name": "stdout",
     "output_type": "stream",
     "text": [
      "Epoch 1/100\n",
      "10/10 [==============================] - 5s 164ms/step - loss: 0.0334\n",
      "Epoch 2/100\n",
      "10/10 [==============================] - 2s 158ms/step - loss: 0.0062\n",
      "Epoch 3/100\n",
      "10/10 [==============================] - 1s 146ms/step - loss: 0.0040\n",
      "Epoch 4/100\n",
      "10/10 [==============================] - 2s 164ms/step - loss: 0.0031\n",
      "Epoch 5/100\n",
      "10/10 [==============================] - 2s 163ms/step - loss: 0.0024\n",
      "Epoch 6/100\n",
      "10/10 [==============================] - 2s 154ms/step - loss: 0.0023\n",
      "Epoch 7/100\n",
      "10/10 [==============================] - 2s 151ms/step - loss: 0.0022\n",
      "Epoch 8/100\n",
      "10/10 [==============================] - 1s 138ms/step - loss: 0.0021\n",
      "Epoch 9/100\n",
      "10/10 [==============================] - 1s 149ms/step - loss: 0.0021\n",
      "Epoch 10/100\n",
      "10/10 [==============================] - 2s 154ms/step - loss: 0.0021\n",
      "Epoch 11/100\n",
      "10/10 [==============================] - 2s 159ms/step - loss: 0.0020\n",
      "Epoch 12/100\n",
      "10/10 [==============================] - 2s 182ms/step - loss: 0.0020\n",
      "Epoch 13/100\n",
      "10/10 [==============================] - 2s 165ms/step - loss: 0.0019\n",
      "Epoch 14/100\n",
      "10/10 [==============================] - 2s 162ms/step - loss: 0.0019\n",
      "Epoch 15/100\n",
      "10/10 [==============================] - 2s 168ms/step - loss: 0.0018\n",
      "Epoch 16/100\n",
      "10/10 [==============================] - 2s 176ms/step - loss: 0.0018\n",
      "Epoch 17/100\n",
      "10/10 [==============================] - 2s 157ms/step - loss: 0.0018\n",
      "Epoch 18/100\n",
      "10/10 [==============================] - 2s 159ms/step - loss: 0.0018\n",
      "Epoch 19/100\n",
      "10/10 [==============================] - 2s 159ms/step - loss: 0.0018\n",
      "Epoch 20/100\n",
      "10/10 [==============================] - 1s 147ms/step - loss: 0.0017\n",
      "Epoch 21/100\n",
      "10/10 [==============================] - 2s 174ms/step - loss: 0.0016\n",
      "Epoch 22/100\n",
      "10/10 [==============================] - 1s 146ms/step - loss: 0.0016\n",
      "Epoch 23/100\n",
      "10/10 [==============================] - 2s 158ms/step - loss: 0.0016\n",
      "Epoch 24/100\n",
      "10/10 [==============================] - 2s 158ms/step - loss: 0.0017\n",
      "Epoch 25/100\n",
      "10/10 [==============================] - 2s 153ms/step - loss: 0.0017\n",
      "Epoch 26/100\n",
      "10/10 [==============================] - 2s 155ms/step - loss: 0.0017\n",
      "Epoch 27/100\n",
      "10/10 [==============================] - 2s 152ms/step - loss: 0.0016\n",
      "Epoch 28/100\n",
      "10/10 [==============================] - 2s 156ms/step - loss: 0.0015\n",
      "Epoch 29/100\n",
      "10/10 [==============================] - 2s 162ms/step - loss: 0.0014\n",
      "Epoch 30/100\n",
      "10/10 [==============================] - 2s 166ms/step - loss: 0.0014\n",
      "Epoch 31/100\n",
      "10/10 [==============================] - 2s 161ms/step - loss: 0.0014\n",
      "Epoch 32/100\n",
      "10/10 [==============================] - 2s 170ms/step - loss: 0.0014\n",
      "Epoch 33/100\n",
      "10/10 [==============================] - 2s 183ms/step - loss: 0.0014\n",
      "Epoch 34/100\n",
      "10/10 [==============================] - 2s 174ms/step - loss: 0.0013\n",
      "Epoch 35/100\n",
      "10/10 [==============================] - 2s 156ms/step - loss: 0.0014\n",
      "Epoch 36/100\n",
      "10/10 [==============================] - 2s 160ms/step - loss: 0.0013\n",
      "Epoch 37/100\n",
      "10/10 [==============================] - 2s 175ms/step - loss: 0.0012\n",
      "Epoch 38/100\n",
      "10/10 [==============================] - 2s 169ms/step - loss: 0.0012\n",
      "Epoch 39/100\n",
      "10/10 [==============================] - 2s 168ms/step - loss: 0.0012\n",
      "Epoch 40/100\n",
      "10/10 [==============================] - 2s 170ms/step - loss: 0.0012\n",
      "Epoch 41/100\n",
      "10/10 [==============================] - 2s 170ms/step - loss: 0.0011\n",
      "Epoch 42/100\n",
      "10/10 [==============================] - 2s 168ms/step - loss: 0.0011\n",
      "Epoch 43/100\n",
      "10/10 [==============================] - 2s 177ms/step - loss: 0.0012\n",
      "Epoch 44/100\n",
      "10/10 [==============================] - 2s 174ms/step - loss: 0.0011\n",
      "Epoch 45/100\n",
      "10/10 [==============================] - 2s 169ms/step - loss: 0.0011\n",
      "Epoch 46/100\n",
      "10/10 [==============================] - 2s 169ms/step - loss: 0.0011\n",
      "Epoch 47/100\n",
      "10/10 [==============================] - 2s 163ms/step - loss: 0.0010\n",
      "Epoch 48/100\n",
      "10/10 [==============================] - 2s 157ms/step - loss: 0.0011\n",
      "Epoch 49/100\n",
      "10/10 [==============================] - 2s 160ms/step - loss: 0.0011\n",
      "Epoch 50/100\n",
      "10/10 [==============================] - 2s 173ms/step - loss: 9.9783e-04\n",
      "Epoch 51/100\n",
      "10/10 [==============================] - 2s 165ms/step - loss: 9.6293e-04\n",
      "Epoch 52/100\n",
      "10/10 [==============================] - 2s 159ms/step - loss: 9.4659e-04\n",
      "Epoch 53/100\n",
      "10/10 [==============================] - 1s 143ms/step - loss: 0.0010\n",
      "Epoch 54/100\n",
      "10/10 [==============================] - 1s 147ms/step - loss: 0.0010\n",
      "Epoch 55/100\n",
      "10/10 [==============================] - 2s 166ms/step - loss: 9.8825e-04\n",
      "Epoch 56/100\n",
      "10/10 [==============================] - 2s 163ms/step - loss: 8.8452e-04\n",
      "Epoch 57/100\n",
      "10/10 [==============================] - 2s 172ms/step - loss: 9.0902e-04\n",
      "Epoch 58/100\n",
      "10/10 [==============================] - 2s 175ms/step - loss: 9.0641e-04\n",
      "Epoch 59/100\n",
      "10/10 [==============================] - 2s 152ms/step - loss: 9.0826e-04\n",
      "Epoch 60/100\n",
      "10/10 [==============================] - 2s 176ms/step - loss: 8.9741e-04\n",
      "Epoch 61/100\n",
      "10/10 [==============================] - 2s 172ms/step - loss: 8.8282e-04\n",
      "Epoch 62/100\n",
      "10/10 [==============================] - 2s 169ms/step - loss: 8.8148e-04\n",
      "Epoch 63/100\n",
      "10/10 [==============================] - 2s 179ms/step - loss: 9.5116e-04\n",
      "Epoch 64/100\n",
      "10/10 [==============================] - 2s 176ms/step - loss: 8.4923e-04\n",
      "Epoch 65/100\n",
      "10/10 [==============================] - 2s 158ms/step - loss: 8.0727e-04\n",
      "Epoch 66/100\n",
      "10/10 [==============================] - 2s 173ms/step - loss: 8.0251e-04\n",
      "Epoch 67/100\n",
      "10/10 [==============================] - 1s 142ms/step - loss: 8.3748e-04\n",
      "Epoch 68/100\n",
      "10/10 [==============================] - 1s 148ms/step - loss: 7.8110e-04\n",
      "Epoch 69/100\n",
      "10/10 [==============================] - 2s 166ms/step - loss: 7.6085e-04\n",
      "Epoch 70/100\n",
      "10/10 [==============================] - 1s 144ms/step - loss: 7.6265e-04\n",
      "Epoch 71/100\n",
      "10/10 [==============================] - 2s 155ms/step - loss: 7.4451e-04\n",
      "Epoch 72/100\n",
      "10/10 [==============================] - 2s 155ms/step - loss: 7.3299e-04\n",
      "Epoch 73/100\n",
      "10/10 [==============================] - 2s 159ms/step - loss: 7.1741e-04\n",
      "Epoch 74/100\n",
      "10/10 [==============================] - 2s 157ms/step - loss: 7.2060e-04\n",
      "Epoch 75/100\n",
      "10/10 [==============================] - 2s 152ms/step - loss: 7.2809e-04\n",
      "Epoch 76/100\n",
      "10/10 [==============================] - 1s 148ms/step - loss: 7.1966e-04\n",
      "Epoch 77/100\n",
      "10/10 [==============================] - 2s 165ms/step - loss: 7.5250e-04\n",
      "Epoch 78/100\n",
      "10/10 [==============================] - 2s 148ms/step - loss: 6.9305e-04\n",
      "Epoch 79/100\n",
      "10/10 [==============================] - 2s 152ms/step - loss: 7.2127e-04\n",
      "Epoch 80/100\n",
      "10/10 [==============================] - 2s 161ms/step - loss: 7.6007e-04\n",
      "Epoch 81/100\n",
      "10/10 [==============================] - 2s 153ms/step - loss: 7.6394e-04\n",
      "Epoch 82/100\n",
      "10/10 [==============================] - 2s 156ms/step - loss: 7.4533e-04\n",
      "Epoch 83/100\n",
      "10/10 [==============================] - 2s 159ms/step - loss: 6.6335e-04\n",
      "Epoch 84/100\n",
      "10/10 [==============================] - 2s 156ms/step - loss: 6.7050e-04\n",
      "Epoch 85/100\n",
      "10/10 [==============================] - 2s 169ms/step - loss: 6.7566e-04\n",
      "Epoch 86/100\n",
      "10/10 [==============================] - 2s 176ms/step - loss: 6.6917e-04\n",
      "Epoch 87/100\n",
      "10/10 [==============================] - 2s 159ms/step - loss: 6.5058e-04\n",
      "Epoch 88/100\n",
      "10/10 [==============================] - 2s 154ms/step - loss: 6.5891e-04\n",
      "Epoch 89/100\n",
      "10/10 [==============================] - 2s 161ms/step - loss: 6.5109e-04\n",
      "Epoch 90/100\n",
      "10/10 [==============================] - 2s 176ms/step - loss: 6.2144e-04\n",
      "Epoch 91/100\n",
      "10/10 [==============================] - 2s 170ms/step - loss: 6.3707e-04\n",
      "Epoch 92/100\n",
      "10/10 [==============================] - 2s 175ms/step - loss: 6.3819e-04\n",
      "Epoch 93/100\n",
      "10/10 [==============================] - 2s 158ms/step - loss: 6.3242e-04\n",
      "Epoch 94/100\n",
      "10/10 [==============================] - 2s 169ms/step - loss: 6.2285e-04\n",
      "Epoch 95/100\n",
      "10/10 [==============================] - 2s 175ms/step - loss: 6.4055e-04\n",
      "Epoch 96/100\n",
      "10/10 [==============================] - 2s 170ms/step - loss: 7.1595e-04\n",
      "Epoch 97/100\n",
      "10/10 [==============================] - 2s 173ms/step - loss: 6.1346e-04\n",
      "Epoch 98/100\n",
      "10/10 [==============================] - 2s 178ms/step - loss: 6.3560e-04\n",
      "Epoch 99/100\n",
      "10/10 [==============================] - 2s 164ms/step - loss: 6.4524e-04\n",
      "Epoch 100/100\n",
      "10/10 [==============================] - 2s 168ms/step - loss: 6.5504e-04\n"
     ]
    },
    {
     "data": {
      "text/plain": [
       "<keras.src.callbacks.History at 0x1a511f97ed0>"
      ]
     },
     "execution_count": 27,
     "metadata": {},
     "output_type": "execute_result"
    }
   ],
   "source": [
    "# Train the model\n",
    "model.fit(X_train, Y_train, batch_size = 64, epochs = 100)"
   ]
  },
  {
   "cell_type": "code",
   "execution_count": 28,
   "metadata": {
    "colab": {
     "base_uri": "https://localhost:8080/"
    },
    "id": "YaOxiKrLAM3C",
    "outputId": "8b63541a-abcc-4217-e347-7f01c6fab13d"
   },
   "outputs": [
    {
     "name": "stdout",
     "output_type": "stream",
     "text": [
      "7/7 [==============================] - 1s 16ms/step\n",
      "19/19 [==============================] - 0s 14ms/step\n",
      "7/7 [==============================] - 0s 14ms/step\n"
     ]
    }
   ],
   "source": [
    "# prediction and check performance metrics\n",
    "predictions = model.predict(X_test)\n",
    "predictions = scaler.inverse_transform(predictions)\n",
    "train_predict = model.predict(X_train)\n",
    "test_predict = model.predict(X_test)"
   ]
  },
  {
   "cell_type": "code",
   "execution_count": 29,
   "metadata": {
    "id": "fuzromErAnf4"
   },
   "outputs": [],
   "source": [
    "# Transformback to original form\n",
    "train_predict = scaler.inverse_transform(train_predict)\n",
    "test_predict = scaler.inverse_transform(test_predict)"
   ]
  },
  {
   "cell_type": "markdown",
   "metadata": {
    "id": "DcF5Q52V2TaX"
   },
   "source": [
    "**Evaluating LSTM Model**"
   ]
  },
  {
   "cell_type": "code",
   "execution_count": 30,
   "metadata": {
    "colab": {
     "base_uri": "https://localhost:8080/"
    },
    "id": "KMSxpSXR2Txl",
    "outputId": "5caf5d48-9af3-4e5d-dab8-34e2b5da0113"
   },
   "outputs": [
    {
     "data": {
      "text/plain": [
       "374.0813082140154"
      ]
     },
     "execution_count": 30,
     "metadata": {},
     "output_type": "execute_result"
    }
   ],
   "source": [
    "import math\n",
    "from sklearn.metrics import mean_squared_error\n",
    "math.sqrt(mean_squared_error(Y_train,train_predict))"
   ]
  },
  {
   "cell_type": "code",
   "execution_count": 31,
   "metadata": {
    "colab": {
     "base_uri": "https://localhost:8080/"
    },
    "id": "EN4C4LLt2gzP",
    "outputId": "1f300ea2-005a-4bda-c071-8b8ad58efd77"
   },
   "outputs": [
    {
     "data": {
      "text/plain": [
       "558.9839876857593"
      ]
     },
     "execution_count": 31,
     "metadata": {},
     "output_type": "execute_result"
    }
   ],
   "source": [
    "math.sqrt(mean_squared_error(Y_test,test_predict))"
   ]
  },
  {
   "cell_type": "markdown",
   "metadata": {
    "id": "A8cOzt_P6kfM"
   },
   "source": [
    "## Plotting"
   ]
  },
  {
   "cell_type": "code",
   "execution_count": 32,
   "metadata": {
    "id": "MFxII0WGA5zE"
   },
   "outputs": [],
   "source": [
    "# Shift train predictions for plotting\n",
    "look_back = 100\n",
    "trainPredictPlot = np.empty_like(df1)\n",
    "trainPredictPlot[:, :] = np.nan\n",
    "trainPredictPlot[look_back : len(train_predict) + look_back, : ] = train_predict\n",
    "\n",
    "# Shift test predictions for plotting\n",
    "testPredictPlot = np.empty_like(df1)\n",
    "testPredictPlot[:, :] = np.nan\n",
    "testPredictPlot[len(train_predict) + (look_back * 2) + 1:len(df1) - 1, : ] = test_predict"
   ]
  },
  {
   "cell_type": "code",
   "execution_count": 33,
   "metadata": {
    "colab": {
     "base_uri": "https://localhost:8080/",
     "height": 517
    },
    "id": "SD1X3P8nFda7",
    "outputId": "7de1dd1e-d96c-4ec4-8d08-ea703c7e989e"
   },
   "outputs": [
    {
     "data": {
      "image/png": "[encoded data removed]",
      "text/plain": [
       "<Figure size 1200x600 with 1 Axes>"
      ]
     },
     "metadata": {},
     "output_type": "display_data"
    }
   ],
   "source": [
    "# Plot baseline and predictions\n",
    "plt.figure(figsize=(12, 6))\n",
    "plt.plot(scaler.inverse_transform(df1), label='Actual Data')\n",
    "plt.plot(trainPredictPlot, label='Trained Predictions')\n",
    "plt.plot(testPredictPlot, label='Test Predictions')\n",
    "plt.title('Actual vs. Predicted Stock Prices')\n",
    "plt.xlabel('Date')\n",
    "plt.ylabel('Close Price')\n",
    "plt.xticks(range(0, len(df['Date']), 50), df['Date'][::50], rotation=45)\n",
    "plt.legend()\n",
    "plt.show()"
   ]
  },
  {
   "cell_type": "markdown",
   "metadata": {
    "id": "w7c_zDht1UzY"
   },
   "source": [
    "## Model 2 : SimpleRNN"
   ]
  },
  {
   "cell_type": "code",
   "execution_count": 34,
   "metadata": {
    "id": "QabeqGvY1Ugp"
   },
   "outputs": [],
   "source": [
    "from tensorflow.keras.layers import LSTM,SimpleRNN\n",
    "model=Sequential()\n",
    "model.add(SimpleRNN(50,return_sequences=True,input_shape=(100,1)))\n",
    "model.add(SimpleRNN(50))\n",
    "model.add(Dense(1))\n",
    "model.compile(loss='mean_squared_error',optimizer='adam')"
   ]
  },
  {
   "cell_type": "code",
   "execution_count": 35,
   "metadata": {
    "colab": {
     "base_uri": "https://localhost:8080/"
    },
    "id": "-zHyEDnQ1gRq",
    "outputId": "d6b80a3c-b3f9-4e22-8a9f-3144eb86e93b"
   },
   "outputs": [
    {
     "name": "stdout",
     "output_type": "stream",
     "text": [
      "Model: \"sequential_1\"\n",
      "_________________________________________________________________\n",
      " Layer (type)                Output Shape              Param #   \n",
      "=================================================================\n",
      " simple_rnn (SimpleRNN)      (None, 100, 50)           2600      \n",
      "                                                                 \n",
      " simple_rnn_1 (SimpleRNN)    (None, 50)                5050      \n",
      "                                                                 \n",
      " dense_1 (Dense)             (None, 1)                 51        \n",
      "                                                                 \n",
      "=================================================================\n",
      "Total params: 7701 (30.08 KB)\n",
      "Trainable params: 7701 (30.08 KB)\n",
      "Non-trainable params: 0 (0.00 Byte)\n",
      "_________________________________________________________________\n"
     ]
    }
   ],
   "source": [
    "model.summary()"
   ]
  },
  {
   "cell_type": "code",
   "execution_count": 105,
   "metadata": {
    "colab": {
     "base_uri": "https://localhost:8080/"
    },
    "id": "apjtp6qo1gPn",
    "outputId": "3bc06093-2f67-4470-bea2-f12ba7e05e13"
   },
   "outputs": [
    {
     "name": "stdout",
     "output_type": "stream",
     "text": [
      "Epoch 1/100\n",
      "5/5 [==============================] - 0s 43ms/step - loss: 3.8927e-04 - val_loss: 0.0036\n",
      "Epoch 2/100\n",
      "5/5 [==============================] - 0s 38ms/step - loss: 3.7809e-04 - val_loss: 0.0039\n",
      "Epoch 3/100\n",
      "5/5 [==============================] - 0s 37ms/step - loss: 3.7788e-04 - val_loss: 0.0040\n",
      "Epoch 4/100\n",
      "5/5 [==============================] - 0s 36ms/step - loss: 4.1511e-04 - val_loss: 0.0047\n",
      "Epoch 5/100\n",
      "5/5 [==============================] - 0s 38ms/step - loss: 4.4322e-04 - val_loss: 0.0045\n",
      "Epoch 6/100\n",
      "5/5 [==============================] - 0s 36ms/step - loss: 4.4086e-04 - val_loss: 0.0053\n",
      "Epoch 7/100\n",
      "5/5 [==============================] - 0s 38ms/step - loss: 5.0076e-04 - val_loss: 0.0052\n",
      "Epoch 8/100\n",
      "5/5 [==============================] - 0s 37ms/step - loss: 5.1437e-04 - val_loss: 0.0053\n",
      "Epoch 9/100\n",
      "5/5 [==============================] - 0s 37ms/step - loss: 4.7452e-04 - val_loss: 0.0046\n",
      "Epoch 10/100\n",
      "5/5 [==============================] - 0s 37ms/step - loss: 4.7512e-04 - val_loss: 0.0041\n",
      "Epoch 11/100\n",
      "5/5 [==============================] - 0s 37ms/step - loss: 4.5438e-04 - val_loss: 0.0034\n",
      "Epoch 12/100\n",
      "5/5 [==============================] - 0s 38ms/step - loss: 4.7901e-04 - val_loss: 0.0030\n",
      "Epoch 13/100\n",
      "5/5 [==============================] - 0s 37ms/step - loss: 4.8491e-04 - val_loss: 0.0035\n",
      "Epoch 14/100\n",
      "5/5 [==============================] - 0s 37ms/step - loss: 4.3134e-04 - val_loss: 0.0033\n",
      "Epoch 15/100\n",
      "5/5 [==============================] - 0s 39ms/step - loss: 4.1181e-04 - val_loss: 0.0037\n",
      "Epoch 16/100\n",
      "5/5 [==============================] - 0s 39ms/step - loss: 4.1528e-04 - val_loss: 0.0044\n",
      "Epoch 17/100\n",
      "5/5 [==============================] - 0s 43ms/step - loss: 4.2812e-04 - val_loss: 0.0036\n",
      "Epoch 18/100\n",
      "5/5 [==============================] - 0s 39ms/step - loss: 4.3749e-04 - val_loss: 0.0053\n",
      "Epoch 19/100\n",
      "5/5 [==============================] - 0s 40ms/step - loss: 4.5947e-04 - val_loss: 0.0050\n",
      "Epoch 20/100\n",
      "5/5 [==============================] - 0s 38ms/step - loss: 4.2733e-04 - val_loss: 0.0046\n",
      "Epoch 21/100\n",
      "5/5 [==============================] - 0s 37ms/step - loss: 4.0529e-04 - val_loss: 0.0041\n",
      "Epoch 22/100\n",
      "5/5 [==============================] - 0s 40ms/step - loss: 4.0597e-04 - val_loss: 0.0044\n",
      "Epoch 23/100\n",
      "5/5 [==============================] - 0s 72ms/step - loss: 4.2968e-04 - val_loss: 0.0041\n",
      "Epoch 24/100\n",
      "5/5 [==============================] - 0s 75ms/step - loss: 4.0587e-04 - val_loss: 0.0034\n",
      "Epoch 25/100\n",
      "5/5 [==============================] - 0s 70ms/step - loss: 4.4256e-04 - val_loss: 0.0036\n",
      "Epoch 26/100\n",
      "5/5 [==============================] - 0s 70ms/step - loss: 3.9851e-04 - val_loss: 0.0040\n",
      "Epoch 27/100\n",
      "5/5 [==============================] - 0s 80ms/step - loss: 3.8147e-04 - val_loss: 0.0038\n",
      "Epoch 28/100\n",
      "5/5 [==============================] - 0s 78ms/step - loss: 4.1632e-04 - val_loss: 0.0037\n",
      "Epoch 29/100\n",
      "5/5 [==============================] - 0s 79ms/step - loss: 4.0781e-04 - val_loss: 0.0044\n",
      "Epoch 30/100\n",
      "5/5 [==============================] - 0s 75ms/step - loss: 4.1141e-04 - val_loss: 0.0040\n",
      "Epoch 31/100\n",
      "5/5 [==============================] - 0s 83ms/step - loss: 3.9368e-04 - val_loss: 0.0049\n",
      "Epoch 32/100\n",
      "5/5 [==============================] - 0s 83ms/step - loss: 3.9611e-04 - val_loss: 0.0039\n",
      "Epoch 33/100\n",
      "5/5 [==============================] - 0s 70ms/step - loss: 3.7288e-04 - val_loss: 0.0042\n",
      "Epoch 34/100\n",
      "5/5 [==============================] - 0s 82ms/step - loss: 3.8665e-04 - val_loss: 0.0042\n",
      "Epoch 35/100\n",
      "5/5 [==============================] - 0s 67ms/step - loss: 3.6845e-04 - val_loss: 0.0035\n",
      "Epoch 36/100\n",
      "5/5 [==============================] - 0s 93ms/step - loss: 4.2153e-04 - val_loss: 0.0037\n",
      "Epoch 37/100\n",
      "5/5 [==============================] - 0s 86ms/step - loss: 4.1544e-04 - val_loss: 0.0038\n",
      "Epoch 38/100\n",
      "5/5 [==============================] - 1s 106ms/step - loss: 3.7532e-04 - val_loss: 0.0041\n",
      "Epoch 39/100\n",
      "5/5 [==============================] - 0s 84ms/step - loss: 3.9037e-04 - val_loss: 0.0037\n",
      "Epoch 40/100\n",
      "5/5 [==============================] - 0s 86ms/step - loss: 3.9414e-04 - val_loss: 0.0038\n",
      "Epoch 41/100\n",
      "5/5 [==============================] - 0s 88ms/step - loss: 3.8867e-04 - val_loss: 0.0045\n",
      "Epoch 42/100\n",
      "5/5 [==============================] - 0s 84ms/step - loss: 4.0760e-04 - val_loss: 0.0041\n",
      "Epoch 43/100\n",
      "5/5 [==============================] - 0s 82ms/step - loss: 3.9890e-04 - val_loss: 0.0045\n",
      "Epoch 44/100\n",
      "5/5 [==============================] - 0s 86ms/step - loss: 3.7981e-04 - val_loss: 0.0047\n",
      "Epoch 45/100\n",
      "5/5 [==============================] - 0s 80ms/step - loss: 3.9018e-04 - val_loss: 0.0038\n",
      "Epoch 46/100\n",
      "5/5 [==============================] - 0s 78ms/step - loss: 3.8395e-04 - val_loss: 0.0054\n",
      "Epoch 47/100\n",
      "5/5 [==============================] - 0s 76ms/step - loss: 3.7588e-04 - val_loss: 0.0043\n",
      "Epoch 48/100\n",
      "5/5 [==============================] - 0s 81ms/step - loss: 3.9719e-04 - val_loss: 0.0051\n",
      "Epoch 49/100\n",
      "5/5 [==============================] - 0s 91ms/step - loss: 3.7599e-04 - val_loss: 0.0038\n",
      "Epoch 50/100\n",
      "5/5 [==============================] - 0s 84ms/step - loss: 3.6271e-04 - val_loss: 0.0045\n",
      "Epoch 51/100\n",
      "5/5 [==============================] - 0s 83ms/step - loss: 3.6854e-04 - val_loss: 0.0038\n",
      "Epoch 52/100\n",
      "5/5 [==============================] - 0s 83ms/step - loss: 4.0244e-04 - val_loss: 0.0035\n",
      "Epoch 53/100\n",
      "5/5 [==============================] - 0s 93ms/step - loss: 4.4928e-04 - val_loss: 0.0037\n",
      "Epoch 54/100\n",
      "5/5 [==============================] - 0s 83ms/step - loss: 4.6196e-04 - val_loss: 0.0040\n",
      "Epoch 55/100\n",
      "5/5 [==============================] - 0s 85ms/step - loss: 4.2862e-04 - val_loss: 0.0041\n",
      "Epoch 56/100\n",
      "5/5 [==============================] - 0s 78ms/step - loss: 4.1363e-04 - val_loss: 0.0055\n",
      "Epoch 57/100\n",
      "5/5 [==============================] - 0s 84ms/step - loss: 3.7596e-04 - val_loss: 0.0050\n",
      "Epoch 58/100\n",
      "5/5 [==============================] - 0s 87ms/step - loss: 3.8964e-04 - val_loss: 0.0046\n",
      "Epoch 59/100\n",
      "5/5 [==============================] - 0s 77ms/step - loss: 3.7694e-04 - val_loss: 0.0054\n",
      "Epoch 60/100\n",
      "5/5 [==============================] - 0s 86ms/step - loss: 3.7743e-04 - val_loss: 0.0038\n",
      "Epoch 61/100\n",
      "5/5 [==============================] - 0s 93ms/step - loss: 3.6901e-04 - val_loss: 0.0048\n",
      "Epoch 62/100\n",
      "5/5 [==============================] - 0s 81ms/step - loss: 3.7642e-04 - val_loss: 0.0051\n",
      "Epoch 63/100\n",
      "5/5 [==============================] - 0s 89ms/step - loss: 3.7418e-04 - val_loss: 0.0041\n",
      "Epoch 64/100\n",
      "5/5 [==============================] - 0s 71ms/step - loss: 3.7660e-04 - val_loss: 0.0046\n",
      "Epoch 65/100\n",
      "5/5 [==============================] - 0s 88ms/step - loss: 3.7967e-04 - val_loss: 0.0037\n",
      "Epoch 66/100\n",
      "5/5 [==============================] - 0s 84ms/step - loss: 4.2135e-04 - val_loss: 0.0045\n",
      "Epoch 67/100\n",
      "5/5 [==============================] - 0s 82ms/step - loss: 3.6678e-04 - val_loss: 0.0040\n",
      "Epoch 68/100\n",
      "5/5 [==============================] - 0s 104ms/step - loss: 3.6943e-04 - val_loss: 0.0048\n",
      "Epoch 69/100\n",
      "5/5 [==============================] - 0s 85ms/step - loss: 3.9218e-04 - val_loss: 0.0042\n",
      "Epoch 70/100\n",
      "5/5 [==============================] - 0s 81ms/step - loss: 3.9518e-04 - val_loss: 0.0042\n",
      "Epoch 71/100\n",
      "5/5 [==============================] - 0s 77ms/step - loss: 3.8130e-04 - val_loss: 0.0048\n",
      "Epoch 72/100\n",
      "5/5 [==============================] - 0s 79ms/step - loss: 3.6086e-04 - val_loss: 0.0046\n",
      "Epoch 73/100\n",
      "5/5 [==============================] - 0s 72ms/step - loss: 3.6781e-04 - val_loss: 0.0044\n",
      "Epoch 74/100\n",
      "5/5 [==============================] - 0s 69ms/step - loss: 3.7488e-04 - val_loss: 0.0053\n",
      "Epoch 75/100\n",
      "5/5 [==============================] - 0s 74ms/step - loss: 4.0071e-04 - val_loss: 0.0048\n",
      "Epoch 76/100\n",
      "5/5 [==============================] - 0s 72ms/step - loss: 4.0215e-04 - val_loss: 0.0051\n",
      "Epoch 77/100\n",
      "5/5 [==============================] - 0s 68ms/step - loss: 4.2159e-04 - val_loss: 0.0042\n",
      "Epoch 78/100\n",
      "5/5 [==============================] - 0s 75ms/step - loss: 4.5579e-04 - val_loss: 0.0046\n",
      "Epoch 79/100\n",
      "5/5 [==============================] - 0s 71ms/step - loss: 5.3095e-04 - val_loss: 0.0047\n",
      "Epoch 80/100\n",
      "5/5 [==============================] - 0s 66ms/step - loss: 6.5359e-04 - val_loss: 0.0049\n",
      "Epoch 81/100\n",
      "5/5 [==============================] - 0s 69ms/step - loss: 4.9779e-04 - val_loss: 0.0054\n",
      "Epoch 82/100\n",
      "5/5 [==============================] - 0s 70ms/step - loss: 3.9333e-04 - val_loss: 0.0058\n",
      "Epoch 83/100\n",
      "5/5 [==============================] - 0s 68ms/step - loss: 3.8329e-04 - val_loss: 0.0049\n",
      "Epoch 84/100\n",
      "5/5 [==============================] - 0s 72ms/step - loss: 3.7956e-04 - val_loss: 0.0055\n",
      "Epoch 85/100\n",
      "5/5 [==============================] - 0s 70ms/step - loss: 3.6437e-04 - val_loss: 0.0043\n",
      "Epoch 86/100\n",
      "5/5 [==============================] - 0s 73ms/step - loss: 3.5729e-04 - val_loss: 0.0052\n",
      "Epoch 87/100\n",
      "5/5 [==============================] - 0s 71ms/step - loss: 3.5423e-04 - val_loss: 0.0052\n",
      "Epoch 88/100\n",
      "5/5 [==============================] - 0s 72ms/step - loss: 3.6219e-04 - val_loss: 0.0047\n",
      "Epoch 89/100\n",
      "5/5 [==============================] - 0s 69ms/step - loss: 3.6319e-04 - val_loss: 0.0053\n",
      "Epoch 90/100\n",
      "5/5 [==============================] - 0s 68ms/step - loss: 3.6414e-04 - val_loss: 0.0048\n",
      "Epoch 91/100\n",
      "5/5 [==============================] - 0s 77ms/step - loss: 3.6243e-04 - val_loss: 0.0064\n",
      "Epoch 92/100\n",
      "5/5 [==============================] - 0s 71ms/step - loss: 3.6962e-04 - val_loss: 0.0049\n",
      "Epoch 93/100\n",
      "5/5 [==============================] - 0s 67ms/step - loss: 3.6903e-04 - val_loss: 0.0058\n",
      "Epoch 94/100\n",
      "5/5 [==============================] - 0s 85ms/step - loss: 3.5101e-04 - val_loss: 0.0050\n",
      "Epoch 95/100\n",
      "5/5 [==============================] - 0s 73ms/step - loss: 3.5195e-04 - val_loss: 0.0062\n",
      "Epoch 96/100\n",
      "5/5 [==============================] - 0s 75ms/step - loss: 3.5933e-04 - val_loss: 0.0055\n",
      "Epoch 97/100\n",
      "5/5 [==============================] - 0s 101ms/step - loss: 3.5952e-04 - val_loss: 0.0045\n",
      "Epoch 98/100\n",
      "5/5 [==============================] - 0s 81ms/step - loss: 3.4113e-04 - val_loss: 0.0067\n",
      "Epoch 99/100\n",
      "5/5 [==============================] - 0s 90ms/step - loss: 3.6830e-04 - val_loss: 0.0055\n",
      "Epoch 100/100\n",
      "5/5 [==============================] - 0s 78ms/step - loss: 3.6634e-04 - val_loss: 0.0054\n"
     ]
    },
    {
     "data": {
      "text/plain": [
       "<keras.src.callbacks.History at 0x1a51efe6ad0>"
      ]
     },
     "execution_count": 105,
     "metadata": {},
     "output_type": "execute_result"
    }
   ],
   "source": [
    "model.fit(X_train, Y_train,validation_data = (X_test,Y_test), batch_size = 128, epochs = 100)"
   ]
  },
  {
   "cell_type": "code",
   "execution_count": 122,
   "metadata": {
    "colab": {
     "base_uri": "https://localhost:8080/"
    },
    "id": "wqblTDPY1gOF",
    "outputId": "2ddfef86-0dda-45c6-ab46-1fbc4ab11362"
   },
   "outputs": [
    {
     "name": "stdout",
     "output_type": "stream",
     "text": [
      "19/19 [==============================] - 0s 6ms/step\n",
      "7/7 [==============================] - 0s 6ms/step\n"
     ]
    }
   ],
   "source": [
    "train_predict1 = model.predict(X_train)\n",
    "test_predict1 = model.predict(X_test)"
   ]
  },
  {
   "cell_type": "code",
   "execution_count": 123,
   "metadata": {
    "id": "3yGnRTlY1gLp"
   },
   "outputs": [],
   "source": [
    "train_predict1 = scaler.inverse_transform(train_predict1)\n",
    "test_predict1 = scaler.inverse_transform(test_predict1)"
   ]
  },
  {
   "cell_type": "markdown",
   "metadata": {
    "id": "uxS5GXum116D"
   },
   "source": [
    "**Evaluating SimpleRNN Model**"
   ]
  },
  {
   "cell_type": "code",
   "execution_count": 124,
   "metadata": {
    "colab": {
     "base_uri": "https://localhost:8080/"
    },
    "id": "vAQ-1EHJ10_S",
    "outputId": "f9d731a1-26f8-4b85-e738-c68b7ac33f81"
   },
   "outputs": [
    {
     "data": {
      "text/plain": [
       "377.99191472457807"
      ]
     },
     "execution_count": 124,
     "metadata": {},
     "output_type": "execute_result"
    }
   ],
   "source": [
    "import math\n",
    "from sklearn.metrics import mean_squared_error\n",
    "math.sqrt(mean_squared_error(Y_train,train_predict1))"
   ]
  },
  {
   "cell_type": "code",
   "execution_count": 125,
   "metadata": {
    "colab": {
     "base_uri": "https://localhost:8080/"
    },
    "id": "thyE2QEW1gIe",
    "outputId": "d14adc84-2dd9-4293-9b86-e0c7b2d1b8ff"
   },
   "outputs": [
    {
     "data": {
      "text/plain": [
       "541.0816423386041"
      ]
     },
     "execution_count": 125,
     "metadata": {},
     "output_type": "execute_result"
    }
   ],
   "source": [
    "math.sqrt(mean_squared_error(Y_test,test_predict1))"
   ]
  },
  {
   "cell_type": "markdown",
   "metadata": {
    "id": "_xrNjAPm6prx"
   },
   "source": [
    "## Plotting"
   ]
  },
  {
   "cell_type": "code",
   "execution_count": 126,
   "metadata": {
    "id": "mvLbsUT42HfJ"
   },
   "outputs": [],
   "source": [
    "look_back=100\n",
    "trainPredictPlot = np.empty_like(df1)\n",
    "trainPredictPlot[:, :] = np.nan\n",
    "trainPredictPlot[look_back:len(train_predict1)+look_back, :] = train_predict1\n",
    "# shift test predictions for plotting\n",
    "testPredictPlot = np.empty_like(df1)\n",
    "testPredictPlot[:, :] = np.nan\n",
    "testPredictPlot[len(train_predict1)+(look_back*2)+1:len(df1)-1, :] = test_predict1"
   ]
  },
  {
   "cell_type": "code",
   "execution_count": 127,
   "metadata": {
    "colab": {
     "base_uri": "https://localhost:8080/",
     "height": 517
    },
    "id": "Joaa0xiA5yj7",
    "outputId": "40c26e73-9145-4b41-abfb-3ebdf3945cf6"
   },
   "outputs": [
    {
     "data": {
      "image/png": "[encoded data removed]",
      "text/plain": [
       "<Figure size 1200x600 with 1 Axes>"
      ]
     },
     "metadata": {},
     "output_type": "display_data"
    }
   ],
   "source": [
    "# Plot baseline and predictions\n",
    "plt.figure(figsize=(12, 6))\n",
    "plt.plot(scaler.inverse_transform(df1), label='Actual Data')\n",
    "plt.plot(trainPredictPlot, label='Trained Predictions')\n",
    "plt.plot(testPredictPlot, label='Test Predictions')\n",
    "plt.title('Actual vs. Predicted Stock Prices')\n",
    "plt.xlabel('Date')\n",
    "plt.ylabel('Close Price')\n",
    "plt.xticks(range(0, len(df['Date']), 50), df['Date'][::50], rotation=45)\n",
    "plt.legend()\n",
    "plt.show()"
   ]
  },
  {
   "cell_type": "markdown",
   "metadata": {
    "id": "NzBcHHkz4_Hf"
   },
   "source": [
    "## Futher Prediction for 30days"
   ]
  },
  {
   "cell_type": "code",
   "execution_count": 128,
   "metadata": {
    "colab": {
     "base_uri": "https://localhost:8080/"
    },
    "id": "U0hDIpslFlLa",
    "outputId": "07232e1d-0d2a-42b4-9d98-e682f1efa2d2"
   },
   "outputs": [
    {
     "data": {
      "text/plain": [
       "303"
      ]
     },
     "execution_count": 128,
     "metadata": {},
     "output_type": "execute_result"
    }
   ],
   "source": [
    "len(data_test)"
   ]
  },
  {
   "cell_type": "code",
   "execution_count": 129,
   "metadata": {
    "colab": {
     "base_uri": "https://localhost:8080/"
    },
    "id": "syOzrQMXHvaU",
    "outputId": "ff7d6293-e395-4951-dd55-d9941622631b"
   },
   "outputs": [
    {
     "data": {
      "text/plain": [
       "(1, 100)"
      ]
     },
     "execution_count": 129,
     "metadata": {},
     "output_type": "execute_result"
    }
   ],
   "source": [
    "x_input = data_test[203:].reshape(1,-1)\n",
    "x_input.shape"
   ]
  },
  {
   "cell_type": "code",
   "execution_count": 130,
   "metadata": {
    "id": "sGOYJrxQH0ja"
   },
   "outputs": [],
   "source": [
    "temp_input = list(x_input)\n",
    "temp_input = temp_input[0].tolist()"
   ]
  },
  {
   "cell_type": "code",
   "execution_count": 131,
   "metadata": {
    "colab": {
     "base_uri": "https://localhost:8080/"
    },
    "id": "dmcBRKs7H97r",
    "outputId": "afcd7790-9467-4e64-88b7-71668ad3af17"
   },
   "outputs": [
    {
     "data": {
      "text/plain": [
       "[0.7623031220089325,\n",
       " 0.770232186519946,\n",
       " 0.7764574241046989,\n",
       " 0.7460518342503559,\n",
       " 0.741049807175792,\n",
       " 0.779297134920363,\n",
       " 0.7849981594001756,\n",
       " 0.7830978186350088,\n",
       " 0.7836438967059076,\n",
       " 0.7644437065449226,\n",
       " 0.797667144433283,\n",
       " 0.8223062503372986,\n",
       " 0.8284441613012656,\n",
       " 0.8070377960750383,\n",
       " 0.8757563085718285,\n",
       " 0.8851269602135838,\n",
       " 0.8692906961575151,\n",
       " 0.8710599825542908,\n",
       " 0.8587841584420446,\n",
       " 0.8541971550699885,\n",
       " 0.8647255577514177,\n",
       " 0.8735501313222742,\n",
       " 0.8615145487965392,\n",
       " 0.8826586764115594,\n",
       " 0.884908581408719,\n",
       " 0.854634045922767,\n",
       " 0.9158383843680022,\n",
       " 0.9412202154248719,\n",
       " 0.9562481616145222,\n",
       " 0.9493895237067091,\n",
       " 0.9371572940990189,\n",
       " 0.9614687007370002,\n",
       " 0.9969856403113886,\n",
       " 0.9770209932746399,\n",
       " 0.9694850896844873,\n",
       " 0.9925732858122798,\n",
       " 0.9491274149699269,\n",
       " 0.8995870966094257,\n",
       " 0.9121032955512327,\n",
       " 0.9220200252638868,\n",
       " 0.9021864325955293,\n",
       " 0.9254931407712357,\n",
       " 0.9801664073316425,\n",
       " 0.9730019329394415,\n",
       " 0.9906293483582447,\n",
       " 1.0,\n",
       " 0.9788777395352508,\n",
       " 0.9718441840840797,\n",
       " 0.9290317157490993,\n",
       " 0.9178043200310453,\n",
       " 0.9270439173044094,\n",
       " 0.943098693408392,\n",
       " 0.9391669575096673,\n",
       " 0.8912431394546414,\n",
       " 0.8385356753142286,\n",
       " 0.8356959623142521,\n",
       " 0.8043729984341079,\n",
       " 0.8274393295959415,\n",
       " 0.8555951476961738,\n",
       " 0.8610559284051631,\n",
       " 0.82374783746804,\n",
       " 0.8251894245987816,\n",
       " 0.8096808619930593,\n",
       " 0.7953299128153377,\n",
       " 0.8107292882029398,\n",
       " 0.7801926461645177,\n",
       " 0.7707345346589274,\n",
       " 0.786046585610056,\n",
       " 0.8104671816504696,\n",
       " 0.8308249874237674,\n",
       " 0.8304974214007823,\n",
       " 0.8283785685877016,\n",
       " 0.8231144349606676,\n",
       " 0.8227430057627159,\n",
       " 0.8261287968335911,\n",
       " 0.8050501286890859,\n",
       " 0.7939756501210697,\n",
       " 0.7803892910621608,\n",
       " 0.7287739830635458,\n",
       " 0.6976911275268634,\n",
       " 0.6709770319847339,\n",
       " 0.6683339660667129,\n",
       " 0.6704965466273991,\n",
       " 0.6625892138392948,\n",
       " 0.6232279960457043,\n",
       " 0.6374041609231176,\n",
       " 0.6048797204400058,\n",
       " 0.6159323340420633,\n",
       " 0.5993097503285842,\n",
       " 0.3573971649203631,\n",
       " 0.3347895196792742,\n",
       " 0.2895087675422692,\n",
       " 0.27483018681219396,\n",
       " 0.3338066184692773,\n",
       " 0.3286952687492317,\n",
       " 0.4221402137708232,\n",
       " 0.4876477173127347,\n",
       " 0.427251495777188,\n",
       " 0.3750901075233618,\n",
       " 0.38507242994958]"
      ]
     },
     "execution_count": 131,
     "metadata": {},
     "output_type": "execute_result"
    }
   ],
   "source": [
    "temp_input"
   ]
  },
  {
   "cell_type": "code",
   "execution_count": 132,
   "metadata": {
    "colab": {
     "base_uri": "https://localhost:8080/"
    },
    "id": "gCWRfhQiIE3j",
    "outputId": "df998896-568a-442c-abb7-43086ecc88f8"
   },
   "outputs": [
    {
     "name": "stdout",
     "output_type": "stream",
     "text": [
      "[0.36466587]\n",
      "101\n",
      "1 day input [0.77023219 0.77645742 0.74605183 0.74104981 0.77929713 0.78499816\n",
      " 0.78309782 0.7836439  0.76444371 0.79766714 0.82230625 0.82844416\n",
      " 0.8070378  0.87575631 0.88512696 0.8692907  0.87105998 0.85878416\n",
      " 0.85419716 0.86472556 0.87355013 0.86151455 0.88265868 0.88490858\n",
      " 0.85463405 0.91583838 0.94122022 0.95624816 0.94938952 0.93715729\n",
      " 0.9614687  0.99698564 0.97702099 0.96948509 0.99257329 0.94912741\n",
      " 0.8995871  0.9121033  0.92202003 0.90218643 0.92549314 0.98016641\n",
      " 0.97300193 0.99062935 1.         0.97887774 0.97184418 0.92903172\n",
      " 0.91780432 0.92704392 0.94309869 0.93916696 0.89124314 0.83853568\n",
      " 0.83569596 0.804373   0.82743933 0.85559515 0.86105593 0.82374784\n",
      " 0.82518942 0.80968086 0.79532991 0.81072929 0.78019265 0.77073453\n",
      " 0.78604659 0.81046718 0.83082499 0.83049742 0.82837857 0.82311443\n",
      " 0.82274301 0.8261288  0.80505013 0.79397565 0.78038929 0.72877398\n",
      " 0.69769113 0.67097703 0.66833397 0.67049655 0.66258921 0.623228\n",
      " 0.63740416 0.60487972 0.61593233 0.59930975 0.35739716 0.33478952\n",
      " 0.28950877 0.27483019 0.33380662 0.32869527 0.42214021 0.48764772\n",
      " 0.4272515  0.37509011 0.38507243 0.36466587]\n",
      "1 day output [[0.35033748]]\n",
      "2 day input [0.77645742 0.74605183 0.74104981 0.77929713 0.78499816 0.78309782\n",
      " 0.7836439  0.76444371 0.79766714 0.82230625 0.82844416 0.8070378\n",
      " 0.87575631 0.88512696 0.8692907  0.87105998 0.85878416 0.85419716\n",
      " 0.86472556 0.87355013 0.86151455 0.88265868 0.88490858 0.85463405\n",
      " 0.91583838 0.94122022 0.95624816 0.94938952 0.93715729 0.9614687\n",
      " 0.99698564 0.97702099 0.96948509 0.99257329 0.94912741 0.8995871\n",
      " 0.9121033  0.92202003 0.90218643 0.92549314 0.98016641 0.97300193\n",
      " 0.99062935 1.         0.97887774 0.97184418 0.92903172 0.91780432\n",
      " 0.92704392 0.94309869 0.93916696 0.89124314 0.83853568 0.83569596\n",
      " 0.804373   0.82743933 0.85559515 0.86105593 0.82374784 0.82518942\n",
      " 0.80968086 0.79532991 0.81072929 0.78019265 0.77073453 0.78604659\n",
      " 0.81046718 0.83082499 0.83049742 0.82837857 0.82311443 0.82274301\n",
      " 0.8261288  0.80505013 0.79397565 0.78038929 0.72877398 0.69769113\n",
      " 0.67097703 0.66833397 0.67049655 0.66258921 0.623228   0.63740416\n",
      " 0.60487972 0.61593233 0.59930975 0.35739716 0.33478952 0.28950877\n",
      " 0.27483019 0.33380662 0.32869527 0.42214021 0.48764772 0.4272515\n",
      " 0.37509011 0.38507243 0.36466587 0.35033748]\n",
      "2 day output [[0.3578057]]\n",
      "3 day input [0.74605183 0.74104981 0.77929713 0.78499816 0.78309782 0.7836439\n",
      " 0.76444371 0.79766714 0.82230625 0.82844416 0.8070378  0.87575631\n",
      " 0.88512696 0.8692907  0.87105998 0.85878416 0.85419716 0.86472556\n",
      " 0.87355013 0.86151455 0.88265868 0.88490858 0.85463405 0.91583838\n",
      " 0.94122022 0.95624816 0.94938952 0.93715729 0.9614687  0.99698564\n",
      " 0.97702099 0.96948509 0.99257329 0.94912741 0.8995871  0.9121033\n",
      " 0.92202003 0.90218643 0.92549314 0.98016641 0.97300193 0.99062935\n",
      " 1.         0.97887774 0.97184418 0.92903172 0.91780432 0.92704392\n",
      " 0.94309869 0.93916696 0.89124314 0.83853568 0.83569596 0.804373\n",
      " 0.82743933 0.85559515 0.86105593 0.82374784 0.82518942 0.80968086\n",
      " 0.79532991 0.81072929 0.78019265 0.77073453 0.78604659 0.81046718\n",
      " 0.83082499 0.83049742 0.82837857 0.82311443 0.82274301 0.8261288\n",
      " 0.80505013 0.79397565 0.78038929 0.72877398 0.69769113 0.67097703\n",
      " 0.66833397 0.67049655 0.66258921 0.623228   0.63740416 0.60487972\n",
      " 0.61593233 0.59930975 0.35739716 0.33478952 0.28950877 0.27483019\n",
      " 0.33380662 0.32869527 0.42214021 0.48764772 0.4272515  0.37509011\n",
      " 0.38507243 0.36466587 0.35033748 0.3578057 ]\n",
      "3 day output [[0.3651007]]\n",
      "4 day input [0.74104981 0.77929713 0.78499816 0.78309782 0.7836439  0.76444371\n",
      " 0.79766714 0.82230625 0.82844416 0.8070378  0.87575631 0.88512696\n",
      " 0.8692907  0.87105998 0.85878416 0.85419716 0.86472556 0.87355013\n",
      " 0.86151455 0.88265868 0.88490858 0.85463405 0.91583838 0.94122022\n",
      " 0.95624816 0.94938952 0.93715729 0.9614687  0.99698564 0.97702099\n",
      " 0.96948509 0.99257329 0.94912741 0.8995871  0.9121033  0.92202003\n",
      " 0.90218643 0.92549314 0.98016641 0.97300193 0.99062935 1.\n",
      " 0.97887774 0.97184418 0.92903172 0.91780432 0.92704392 0.94309869\n",
      " 0.93916696 0.89124314 0.83853568 0.83569596 0.804373   0.82743933\n",
      " 0.85559515 0.86105593 0.82374784 0.82518942 0.80968086 0.79532991\n",
      " 0.81072929 0.78019265 0.77073453 0.78604659 0.81046718 0.83082499\n",
      " 0.83049742 0.82837857 0.82311443 0.82274301 0.8261288  0.80505013\n",
      " 0.79397565 0.78038929 0.72877398 0.69769113 0.67097703 0.66833397\n",
      " 0.67049655 0.66258921 0.623228   0.63740416 0.60487972 0.61593233\n",
      " 0.59930975 0.35739716 0.33478952 0.28950877 0.27483019 0.33380662\n",
      " 0.32869527 0.42214021 0.48764772 0.4272515  0.37509011 0.38507243\n",
      " 0.36466587 0.35033748 0.3578057  0.36510071]\n",
      "4 day output [[0.3828994]]\n",
      "5 day input [0.77929713 0.78499816 0.78309782 0.7836439  0.76444371 0.79766714\n",
      " 0.82230625 0.82844416 0.8070378  0.87575631 0.88512696 0.8692907\n",
      " 0.87105998 0.85878416 0.85419716 0.86472556 0.87355013 0.86151455\n",
      " 0.88265868 0.88490858 0.85463405 0.91583838 0.94122022 0.95624816\n",
      " 0.94938952 0.93715729 0.9614687  0.99698564 0.97702099 0.96948509\n",
      " 0.99257329 0.94912741 0.8995871  0.9121033  0.92202003 0.90218643\n",
      " 0.92549314 0.98016641 0.97300193 0.99062935 1.         0.97887774\n",
      " 0.97184418 0.92903172 0.91780432 0.92704392 0.94309869 0.93916696\n",
      " 0.89124314 0.83853568 0.83569596 0.804373   0.82743933 0.85559515\n",
      " 0.86105593 0.82374784 0.82518942 0.80968086 0.79532991 0.81072929\n",
      " 0.78019265 0.77073453 0.78604659 0.81046718 0.83082499 0.83049742\n",
      " 0.82837857 0.82311443 0.82274301 0.8261288  0.80505013 0.79397565\n",
      " 0.78038929 0.72877398 0.69769113 0.67097703 0.66833397 0.67049655\n",
      " 0.66258921 0.623228   0.63740416 0.60487972 0.61593233 0.59930975\n",
      " 0.35739716 0.33478952 0.28950877 0.27483019 0.33380662 0.32869527\n",
      " 0.42214021 0.48764772 0.4272515  0.37509011 0.38507243 0.36466587\n",
      " 0.35033748 0.3578057  0.36510071 0.3828994 ]\n",
      "5 day output [[0.39092946]]\n",
      "6 day input [0.78499816 0.78309782 0.7836439  0.76444371 0.79766714 0.82230625\n",
      " 0.82844416 0.8070378  0.87575631 0.88512696 0.8692907  0.87105998\n",
      " 0.85878416 0.85419716 0.86472556 0.87355013 0.86151455 0.88265868\n",
      " 0.88490858 0.85463405 0.91583838 0.94122022 0.95624816 0.94938952\n",
      " 0.93715729 0.9614687  0.99698564 0.97702099 0.96948509 0.99257329\n",
      " 0.94912741 0.8995871  0.9121033  0.92202003 0.90218643 0.92549314\n",
      " 0.98016641 0.97300193 0.99062935 1.         0.97887774 0.97184418\n",
      " 0.92903172 0.91780432 0.92704392 0.94309869 0.93916696 0.89124314\n",
      " 0.83853568 0.83569596 0.804373   0.82743933 0.85559515 0.86105593\n",
      " 0.82374784 0.82518942 0.80968086 0.79532991 0.81072929 0.78019265\n",
      " 0.77073453 0.78604659 0.81046718 0.83082499 0.83049742 0.82837857\n",
      " 0.82311443 0.82274301 0.8261288  0.80505013 0.79397565 0.78038929\n",
      " 0.72877398 0.69769113 0.67097703 0.66833397 0.67049655 0.66258921\n",
      " 0.623228   0.63740416 0.60487972 0.61593233 0.59930975 0.35739716\n",
      " 0.33478952 0.28950877 0.27483019 0.33380662 0.32869527 0.42214021\n",
      " 0.48764772 0.4272515  0.37509011 0.38507243 0.36466587 0.35033748\n",
      " 0.3578057  0.36510071 0.3828994  0.39092946]\n",
      "6 day output [[0.42507592]]\n",
      "7 day input [0.78309782 0.7836439  0.76444371 0.79766714 0.82230625 0.82844416\n",
      " 0.8070378  0.87575631 0.88512696 0.8692907  0.87105998 0.85878416\n",
      " 0.85419716 0.86472556 0.87355013 0.86151455 0.88265868 0.88490858\n",
      " 0.85463405 0.91583838 0.94122022 0.95624816 0.94938952 0.93715729\n",
      " 0.9614687  0.99698564 0.97702099 0.96948509 0.99257329 0.94912741\n",
      " 0.8995871  0.9121033  0.92202003 0.90218643 0.92549314 0.98016641\n",
      " 0.97300193 0.99062935 1.         0.97887774 0.97184418 0.92903172\n",
      " 0.91780432 0.92704392 0.94309869 0.93916696 0.89124314 0.83853568\n",
      " 0.83569596 0.804373   0.82743933 0.85559515 0.86105593 0.82374784\n",
      " 0.82518942 0.80968086 0.79532991 0.81072929 0.78019265 0.77073453\n",
      " 0.78604659 0.81046718 0.83082499 0.83049742 0.82837857 0.82311443\n",
      " 0.82274301 0.8261288  0.80505013 0.79397565 0.78038929 0.72877398\n",
      " 0.69769113 0.67097703 0.66833397 0.67049655 0.66258921 0.623228\n",
      " 0.63740416 0.60487972 0.61593233 0.59930975 0.35739716 0.33478952\n",
      " 0.28950877 0.27483019 0.33380662 0.32869527 0.42214021 0.48764772\n",
      " 0.4272515  0.37509011 0.38507243 0.36466587 0.35033748 0.3578057\n",
      " 0.36510071 0.3828994  0.39092946 0.42507592]\n",
      "7 day output [[0.40870684]]\n",
      "8 day input [0.7836439  0.76444371 0.79766714 0.82230625 0.82844416 0.8070378\n",
      " 0.87575631 0.88512696 0.8692907  0.87105998 0.85878416 0.85419716\n",
      " 0.86472556 0.87355013 0.86151455 0.88265868 0.88490858 0.85463405\n",
      " 0.91583838 0.94122022 0.95624816 0.94938952 0.93715729 0.9614687\n",
      " 0.99698564 0.97702099 0.96948509 0.99257329 0.94912741 0.8995871\n",
      " 0.9121033  0.92202003 0.90218643 0.92549314 0.98016641 0.97300193\n",
      " 0.99062935 1.         0.97887774 0.97184418 0.92903172 0.91780432\n",
      " 0.92704392 0.94309869 0.93916696 0.89124314 0.83853568 0.83569596\n",
      " 0.804373   0.82743933 0.85559515 0.86105593 0.82374784 0.82518942\n",
      " 0.80968086 0.79532991 0.81072929 0.78019265 0.77073453 0.78604659\n",
      " 0.81046718 0.83082499 0.83049742 0.82837857 0.82311443 0.82274301\n",
      " 0.8261288  0.80505013 0.79397565 0.78038929 0.72877398 0.69769113\n",
      " 0.67097703 0.66833397 0.67049655 0.66258921 0.623228   0.63740416\n",
      " 0.60487972 0.61593233 0.59930975 0.35739716 0.33478952 0.28950877\n",
      " 0.27483019 0.33380662 0.32869527 0.42214021 0.48764772 0.4272515\n",
      " 0.37509011 0.38507243 0.36466587 0.35033748 0.3578057  0.36510071\n",
      " 0.3828994  0.39092946 0.42507592 0.40870684]\n",
      "8 day output [[0.43806055]]\n",
      "9 day input [0.76444371 0.79766714 0.82230625 0.82844416 0.8070378  0.87575631\n",
      " 0.88512696 0.8692907  0.87105998 0.85878416 0.85419716 0.86472556\n",
      " 0.87355013 0.86151455 0.88265868 0.88490858 0.85463405 0.91583838\n",
      " 0.94122022 0.95624816 0.94938952 0.93715729 0.9614687  0.99698564\n",
      " 0.97702099 0.96948509 0.99257329 0.94912741 0.8995871  0.9121033\n",
      " 0.92202003 0.90218643 0.92549314 0.98016641 0.97300193 0.99062935\n",
      " 1.         0.97887774 0.97184418 0.92903172 0.91780432 0.92704392\n",
      " 0.94309869 0.93916696 0.89124314 0.83853568 0.83569596 0.804373\n",
      " 0.82743933 0.85559515 0.86105593 0.82374784 0.82518942 0.80968086\n",
      " 0.79532991 0.81072929 0.78019265 0.77073453 0.78604659 0.81046718\n",
      " 0.83082499 0.83049742 0.82837857 0.82311443 0.82274301 0.8261288\n",
      " 0.80505013 0.79397565 0.78038929 0.72877398 0.69769113 0.67097703\n",
      " 0.66833397 0.67049655 0.66258921 0.623228   0.63740416 0.60487972\n",
      " 0.61593233 0.59930975 0.35739716 0.33478952 0.28950877 0.27483019\n",
      " 0.33380662 0.32869527 0.42214021 0.48764772 0.4272515  0.37509011\n",
      " 0.38507243 0.36466587 0.35033748 0.3578057  0.36510071 0.3828994\n",
      " 0.39092946 0.42507592 0.40870684 0.43806055]\n",
      "9 day output [[0.44937864]]\n",
      "10 day input [0.79766714 0.82230625 0.82844416 0.8070378  0.87575631 0.88512696\n",
      " 0.8692907  0.87105998 0.85878416 0.85419716 0.86472556 0.87355013\n",
      " 0.86151455 0.88265868 0.88490858 0.85463405 0.91583838 0.94122022\n",
      " 0.95624816 0.94938952 0.93715729 0.9614687  0.99698564 0.97702099\n",
      " 0.96948509 0.99257329 0.94912741 0.8995871  0.9121033  0.92202003\n",
      " 0.90218643 0.92549314 0.98016641 0.97300193 0.99062935 1.\n",
      " 0.97887774 0.97184418 0.92903172 0.91780432 0.92704392 0.94309869\n",
      " 0.93916696 0.89124314 0.83853568 0.83569596 0.804373   0.82743933\n",
      " 0.85559515 0.86105593 0.82374784 0.82518942 0.80968086 0.79532991\n",
      " 0.81072929 0.78019265 0.77073453 0.78604659 0.81046718 0.83082499\n",
      " 0.83049742 0.82837857 0.82311443 0.82274301 0.8261288  0.80505013\n",
      " 0.79397565 0.78038929 0.72877398 0.69769113 0.67097703 0.66833397\n",
      " 0.67049655 0.66258921 0.623228   0.63740416 0.60487972 0.61593233\n",
      " 0.59930975 0.35739716 0.33478952 0.28950877 0.27483019 0.33380662\n",
      " 0.32869527 0.42214021 0.48764772 0.4272515  0.37509011 0.38507243\n",
      " 0.36466587 0.35033748 0.3578057  0.36510071 0.3828994  0.39092946\n",
      " 0.42507592 0.40870684 0.43806055 0.44937864]\n",
      "10 day output [[0.46168655]]\n",
      "11 day input [0.82230625 0.82844416 0.8070378  0.87575631 0.88512696 0.8692907\n",
      " 0.87105998 0.85878416 0.85419716 0.86472556 0.87355013 0.86151455\n",
      " 0.88265868 0.88490858 0.85463405 0.91583838 0.94122022 0.95624816\n",
      " 0.94938952 0.93715729 0.9614687  0.99698564 0.97702099 0.96948509\n",
      " 0.99257329 0.94912741 0.8995871  0.9121033  0.92202003 0.90218643\n",
      " 0.92549314 0.98016641 0.97300193 0.99062935 1.         0.97887774\n",
      " 0.97184418 0.92903172 0.91780432 0.92704392 0.94309869 0.93916696\n",
      " 0.89124314 0.83853568 0.83569596 0.804373   0.82743933 0.85559515\n",
      " 0.86105593 0.82374784 0.82518942 0.80968086 0.79532991 0.81072929\n",
      " 0.78019265 0.77073453 0.78604659 0.81046718 0.83082499 0.83049742\n",
      " 0.82837857 0.82311443 0.82274301 0.8261288  0.80505013 0.79397565\n",
      " 0.78038929 0.72877398 0.69769113 0.67097703 0.66833397 0.67049655\n",
      " 0.66258921 0.623228   0.63740416 0.60487972 0.61593233 0.59930975\n",
      " 0.35739716 0.33478952 0.28950877 0.27483019 0.33380662 0.32869527\n",
      " 0.42214021 0.48764772 0.4272515  0.37509011 0.38507243 0.36466587\n",
      " 0.35033748 0.3578057  0.36510071 0.3828994  0.39092946 0.42507592\n",
      " 0.40870684 0.43806055 0.44937864 0.46168655]\n",
      "11 day output [[0.4952781]]\n",
      "12 day input [0.82844416 0.8070378  0.87575631 0.88512696 0.8692907  0.87105998\n",
      " 0.85878416 0.85419716 0.86472556 0.87355013 0.86151455 0.88265868\n",
      " 0.88490858 0.85463405 0.91583838 0.94122022 0.95624816 0.94938952\n",
      " 0.93715729 0.9614687  0.99698564 0.97702099 0.96948509 0.99257329\n",
      " 0.94912741 0.8995871  0.9121033  0.92202003 0.90218643 0.92549314\n",
      " 0.98016641 0.97300193 0.99062935 1.         0.97887774 0.97184418\n",
      " 0.92903172 0.91780432 0.92704392 0.94309869 0.93916696 0.89124314\n",
      " 0.83853568 0.83569596 0.804373   0.82743933 0.85559515 0.86105593\n",
      " 0.82374784 0.82518942 0.80968086 0.79532991 0.81072929 0.78019265\n",
      " 0.77073453 0.78604659 0.81046718 0.83082499 0.83049742 0.82837857\n",
      " 0.82311443 0.82274301 0.8261288  0.80505013 0.79397565 0.78038929\n",
      " 0.72877398 0.69769113 0.67097703 0.66833397 0.67049655 0.66258921\n",
      " 0.623228   0.63740416 0.60487972 0.61593233 0.59930975 0.35739716\n",
      " 0.33478952 0.28950877 0.27483019 0.33380662 0.32869527 0.42214021\n",
      " 0.48764772 0.4272515  0.37509011 0.38507243 0.36466587 0.35033748\n",
      " 0.3578057  0.36510071 0.3828994  0.39092946 0.42507592 0.40870684\n",
      " 0.43806055 0.44937864 0.46168655 0.49527809]\n",
      "12 day output [[0.4954596]]\n",
      "13 day input [0.8070378  0.87575631 0.88512696 0.8692907  0.87105998 0.85878416\n",
      " 0.85419716 0.86472556 0.87355013 0.86151455 0.88265868 0.88490858\n",
      " 0.85463405 0.91583838 0.94122022 0.95624816 0.94938952 0.93715729\n",
      " 0.9614687  0.99698564 0.97702099 0.96948509 0.99257329 0.94912741\n",
      " 0.8995871  0.9121033  0.92202003 0.90218643 0.92549314 0.98016641\n",
      " 0.97300193 0.99062935 1.         0.97887774 0.97184418 0.92903172\n",
      " 0.91780432 0.92704392 0.94309869 0.93916696 0.89124314 0.83853568\n",
      " 0.83569596 0.804373   0.82743933 0.85559515 0.86105593 0.82374784\n",
      " 0.82518942 0.80968086 0.79532991 0.81072929 0.78019265 0.77073453\n",
      " 0.78604659 0.81046718 0.83082499 0.83049742 0.82837857 0.82311443\n",
      " 0.82274301 0.8261288  0.80505013 0.79397565 0.78038929 0.72877398\n",
      " 0.69769113 0.67097703 0.66833397 0.67049655 0.66258921 0.623228\n",
      " 0.63740416 0.60487972 0.61593233 0.59930975 0.35739716 0.33478952\n",
      " 0.28950877 0.27483019 0.33380662 0.32869527 0.42214021 0.48764772\n",
      " 0.4272515  0.37509011 0.38507243 0.36466587 0.35033748 0.3578057\n",
      " 0.36510071 0.3828994  0.39092946 0.42507592 0.40870684 0.43806055\n",
      " 0.44937864 0.46168655 0.49527809 0.49545959]\n",
      "13 day output [[0.53852296]]\n",
      "14 day input [0.87575631 0.88512696 0.8692907  0.87105998 0.85878416 0.85419716\n",
      " 0.86472556 0.87355013 0.86151455 0.88265868 0.88490858 0.85463405\n",
      " 0.91583838 0.94122022 0.95624816 0.94938952 0.93715729 0.9614687\n",
      " 0.99698564 0.97702099 0.96948509 0.99257329 0.94912741 0.8995871\n",
      " 0.9121033  0.92202003 0.90218643 0.92549314 0.98016641 0.97300193\n",
      " 0.99062935 1.         0.97887774 0.97184418 0.92903172 0.91780432\n",
      " 0.92704392 0.94309869 0.93916696 0.89124314 0.83853568 0.83569596\n",
      " 0.804373   0.82743933 0.85559515 0.86105593 0.82374784 0.82518942\n",
      " 0.80968086 0.79532991 0.81072929 0.78019265 0.77073453 0.78604659\n",
      " 0.81046718 0.83082499 0.83049742 0.82837857 0.82311443 0.82274301\n",
      " 0.8261288  0.80505013 0.79397565 0.78038929 0.72877398 0.69769113\n",
      " 0.67097703 0.66833397 0.67049655 0.66258921 0.623228   0.63740416\n",
      " 0.60487972 0.61593233 0.59930975 0.35739716 0.33478952 0.28950877\n",
      " 0.27483019 0.33380662 0.32869527 0.42214021 0.48764772 0.4272515\n",
      " 0.37509011 0.38507243 0.36466587 0.35033748 0.3578057  0.36510071\n",
      " 0.3828994  0.39092946 0.42507592 0.40870684 0.43806055 0.44937864\n",
      " 0.46168655 0.49527809 0.49545959 0.53852296]\n",
      "14 day output [[0.5407953]]\n",
      "15 day input [0.88512696 0.8692907  0.87105998 0.85878416 0.85419716 0.86472556\n",
      " 0.87355013 0.86151455 0.88265868 0.88490858 0.85463405 0.91583838\n",
      " 0.94122022 0.95624816 0.94938952 0.93715729 0.9614687  0.99698564\n",
      " 0.97702099 0.96948509 0.99257329 0.94912741 0.8995871  0.9121033\n",
      " 0.92202003 0.90218643 0.92549314 0.98016641 0.97300193 0.99062935\n",
      " 1.         0.97887774 0.97184418 0.92903172 0.91780432 0.92704392\n",
      " 0.94309869 0.93916696 0.89124314 0.83853568 0.83569596 0.804373\n",
      " 0.82743933 0.85559515 0.86105593 0.82374784 0.82518942 0.80968086\n",
      " 0.79532991 0.81072929 0.78019265 0.77073453 0.78604659 0.81046718\n",
      " 0.83082499 0.83049742 0.82837857 0.82311443 0.82274301 0.8261288\n",
      " 0.80505013 0.79397565 0.78038929 0.72877398 0.69769113 0.67097703\n",
      " 0.66833397 0.67049655 0.66258921 0.623228   0.63740416 0.60487972\n",
      " 0.61593233 0.59930975 0.35739716 0.33478952 0.28950877 0.27483019\n",
      " 0.33380662 0.32869527 0.42214021 0.48764772 0.4272515  0.37509011\n",
      " 0.38507243 0.36466587 0.35033748 0.3578057  0.36510071 0.3828994\n",
      " 0.39092946 0.42507592 0.40870684 0.43806055 0.44937864 0.46168655\n",
      " 0.49527809 0.49545959 0.53852296 0.54079533]\n",
      "15 day output [[0.51524824]]\n",
      "16 day input [0.8692907  0.87105998 0.85878416 0.85419716 0.86472556 0.87355013\n",
      " 0.86151455 0.88265868 0.88490858 0.85463405 0.91583838 0.94122022\n",
      " 0.95624816 0.94938952 0.93715729 0.9614687  0.99698564 0.97702099\n",
      " 0.96948509 0.99257329 0.94912741 0.8995871  0.9121033  0.92202003\n",
      " 0.90218643 0.92549314 0.98016641 0.97300193 0.99062935 1.\n",
      " 0.97887774 0.97184418 0.92903172 0.91780432 0.92704392 0.94309869\n",
      " 0.93916696 0.89124314 0.83853568 0.83569596 0.804373   0.82743933\n",
      " 0.85559515 0.86105593 0.82374784 0.82518942 0.80968086 0.79532991\n",
      " 0.81072929 0.78019265 0.77073453 0.78604659 0.81046718 0.83082499\n",
      " 0.83049742 0.82837857 0.82311443 0.82274301 0.8261288  0.80505013\n",
      " 0.79397565 0.78038929 0.72877398 0.69769113 0.67097703 0.66833397\n",
      " 0.67049655 0.66258921 0.623228   0.63740416 0.60487972 0.61593233\n",
      " 0.59930975 0.35739716 0.33478952 0.28950877 0.27483019 0.33380662\n",
      " 0.32869527 0.42214021 0.48764772 0.4272515  0.37509011 0.38507243\n",
      " 0.36466587 0.35033748 0.3578057  0.36510071 0.3828994  0.39092946\n",
      " 0.42507592 0.40870684 0.43806055 0.44937864 0.46168655 0.49527809\n",
      " 0.49545959 0.53852296 0.54079533 0.51524824]\n",
      "16 day output [[0.501697]]\n",
      "17 day input [0.87105998 0.85878416 0.85419716 0.86472556 0.87355013 0.86151455\n",
      " 0.88265868 0.88490858 0.85463405 0.91583838 0.94122022 0.95624816\n",
      " 0.94938952 0.93715729 0.9614687  0.99698564 0.97702099 0.96948509\n",
      " 0.99257329 0.94912741 0.8995871  0.9121033  0.92202003 0.90218643\n",
      " 0.92549314 0.98016641 0.97300193 0.99062935 1.         0.97887774\n",
      " 0.97184418 0.92903172 0.91780432 0.92704392 0.94309869 0.93916696\n",
      " 0.89124314 0.83853568 0.83569596 0.804373   0.82743933 0.85559515\n",
      " 0.86105593 0.82374784 0.82518942 0.80968086 0.79532991 0.81072929\n",
      " 0.78019265 0.77073453 0.78604659 0.81046718 0.83082499 0.83049742\n",
      " 0.82837857 0.82311443 0.82274301 0.8261288  0.80505013 0.79397565\n",
      " 0.78038929 0.72877398 0.69769113 0.67097703 0.66833397 0.67049655\n",
      " 0.66258921 0.623228   0.63740416 0.60487972 0.61593233 0.59930975\n",
      " 0.35739716 0.33478952 0.28950877 0.27483019 0.33380662 0.32869527\n",
      " 0.42214021 0.48764772 0.4272515  0.37509011 0.38507243 0.36466587\n",
      " 0.35033748 0.3578057  0.36510071 0.3828994  0.39092946 0.42507592\n",
      " 0.40870684 0.43806055 0.44937864 0.46168655 0.49527809 0.49545959\n",
      " 0.53852296 0.54079533 0.51524824 0.501697  ]\n",
      "17 day output [[0.52692765]]\n",
      "18 day input [0.85878416 0.85419716 0.86472556 0.87355013 0.86151455 0.88265868\n",
      " 0.88490858 0.85463405 0.91583838 0.94122022 0.95624816 0.94938952\n",
      " 0.93715729 0.9614687  0.99698564 0.97702099 0.96948509 0.99257329\n",
      " 0.94912741 0.8995871  0.9121033  0.92202003 0.90218643 0.92549314\n",
      " 0.98016641 0.97300193 0.99062935 1.         0.97887774 0.97184418\n",
      " 0.92903172 0.91780432 0.92704392 0.94309869 0.93916696 0.89124314\n",
      " 0.83853568 0.83569596 0.804373   0.82743933 0.85559515 0.86105593\n",
      " 0.82374784 0.82518942 0.80968086 0.79532991 0.81072929 0.78019265\n",
      " 0.77073453 0.78604659 0.81046718 0.83082499 0.83049742 0.82837857\n",
      " 0.82311443 0.82274301 0.8261288  0.80505013 0.79397565 0.78038929\n",
      " 0.72877398 0.69769113 0.67097703 0.66833397 0.67049655 0.66258921\n",
      " 0.623228   0.63740416 0.60487972 0.61593233 0.59930975 0.35739716\n",
      " 0.33478952 0.28950877 0.27483019 0.33380662 0.32869527 0.42214021\n",
      " 0.48764772 0.4272515  0.37509011 0.38507243 0.36466587 0.35033748\n",
      " 0.3578057  0.36510071 0.3828994  0.39092946 0.42507592 0.40870684\n",
      " 0.43806055 0.44937864 0.46168655 0.49527809 0.49545959 0.53852296\n",
      " 0.54079533 0.51524824 0.501697   0.52692765]\n",
      "18 day output [[0.5589281]]\n",
      "19 day input [0.85419716 0.86472556 0.87355013 0.86151455 0.88265868 0.88490858\n",
      " 0.85463405 0.91583838 0.94122022 0.95624816 0.94938952 0.93715729\n",
      " 0.9614687  0.99698564 0.97702099 0.96948509 0.99257329 0.94912741\n",
      " 0.8995871  0.9121033  0.92202003 0.90218643 0.92549314 0.98016641\n",
      " 0.97300193 0.99062935 1.         0.97887774 0.97184418 0.92903172\n",
      " 0.91780432 0.92704392 0.94309869 0.93916696 0.89124314 0.83853568\n",
      " 0.83569596 0.804373   0.82743933 0.85559515 0.86105593 0.82374784\n",
      " 0.82518942 0.80968086 0.79532991 0.81072929 0.78019265 0.77073453\n",
      " 0.78604659 0.81046718 0.83082499 0.83049742 0.82837857 0.82311443\n",
      " 0.82274301 0.8261288  0.80505013 0.79397565 0.78038929 0.72877398\n",
      " 0.69769113 0.67097703 0.66833397 0.67049655 0.66258921 0.623228\n",
      " 0.63740416 0.60487972 0.61593233 0.59930975 0.35739716 0.33478952\n",
      " 0.28950877 0.27483019 0.33380662 0.32869527 0.42214021 0.48764772\n",
      " 0.4272515  0.37509011 0.38507243 0.36466587 0.35033748 0.3578057\n",
      " 0.36510071 0.3828994  0.39092946 0.42507592 0.40870684 0.43806055\n",
      " 0.44937864 0.46168655 0.49527809 0.49545959 0.53852296 0.54079533\n",
      " 0.51524824 0.501697   0.52692765 0.55892807]\n",
      "19 day output [[0.5659645]]\n",
      "20 day input [0.86472556 0.87355013 0.86151455 0.88265868 0.88490858 0.85463405\n",
      " 0.91583838 0.94122022 0.95624816 0.94938952 0.93715729 0.9614687\n",
      " 0.99698564 0.97702099 0.96948509 0.99257329 0.94912741 0.8995871\n",
      " 0.9121033  0.92202003 0.90218643 0.92549314 0.98016641 0.97300193\n",
      " 0.99062935 1.         0.97887774 0.97184418 0.92903172 0.91780432\n",
      " 0.92704392 0.94309869 0.93916696 0.89124314 0.83853568 0.83569596\n",
      " 0.804373   0.82743933 0.85559515 0.86105593 0.82374784 0.82518942\n",
      " 0.80968086 0.79532991 0.81072929 0.78019265 0.77073453 0.78604659\n",
      " 0.81046718 0.83082499 0.83049742 0.82837857 0.82311443 0.82274301\n",
      " 0.8261288  0.80505013 0.79397565 0.78038929 0.72877398 0.69769113\n",
      " 0.67097703 0.66833397 0.67049655 0.66258921 0.623228   0.63740416\n",
      " 0.60487972 0.61593233 0.59930975 0.35739716 0.33478952 0.28950877\n",
      " 0.27483019 0.33380662 0.32869527 0.42214021 0.48764772 0.4272515\n",
      " 0.37509011 0.38507243 0.36466587 0.35033748 0.3578057  0.36510071\n",
      " 0.3828994  0.39092946 0.42507592 0.40870684 0.43806055 0.44937864\n",
      " 0.46168655 0.49527809 0.49545959 0.53852296 0.54079533 0.51524824\n",
      " 0.501697   0.52692765 0.55892807 0.56596452]\n",
      "20 day output [[0.5783185]]\n",
      "21 day input [0.87355013 0.86151455 0.88265868 0.88490858 0.85463405 0.91583838\n",
      " 0.94122022 0.95624816 0.94938952 0.93715729 0.9614687  0.99698564\n",
      " 0.97702099 0.96948509 0.99257329 0.94912741 0.8995871  0.9121033\n",
      " 0.92202003 0.90218643 0.92549314 0.98016641 0.97300193 0.99062935\n",
      " 1.         0.97887774 0.97184418 0.92903172 0.91780432 0.92704392\n",
      " 0.94309869 0.93916696 0.89124314 0.83853568 0.83569596 0.804373\n",
      " 0.82743933 0.85559515 0.86105593 0.82374784 0.82518942 0.80968086\n",
      " 0.79532991 0.81072929 0.78019265 0.77073453 0.78604659 0.81046718\n",
      " 0.83082499 0.83049742 0.82837857 0.82311443 0.82274301 0.8261288\n",
      " 0.80505013 0.79397565 0.78038929 0.72877398 0.69769113 0.67097703\n",
      " 0.66833397 0.67049655 0.66258921 0.623228   0.63740416 0.60487972\n",
      " 0.61593233 0.59930975 0.35739716 0.33478952 0.28950877 0.27483019\n",
      " 0.33380662 0.32869527 0.42214021 0.48764772 0.4272515  0.37509011\n",
      " 0.38507243 0.36466587 0.35033748 0.3578057  0.36510071 0.3828994\n",
      " 0.39092946 0.42507592 0.40870684 0.43806055 0.44937864 0.46168655\n",
      " 0.49527809 0.49545959 0.53852296 0.54079533 0.51524824 0.501697\n",
      " 0.52692765 0.55892807 0.56596452 0.57831848]\n",
      "21 day output [[0.557535]]\n",
      "22 day input [0.86151455 0.88265868 0.88490858 0.85463405 0.91583838 0.94122022\n",
      " 0.95624816 0.94938952 0.93715729 0.9614687  0.99698564 0.97702099\n",
      " 0.96948509 0.99257329 0.94912741 0.8995871  0.9121033  0.92202003\n",
      " 0.90218643 0.92549314 0.98016641 0.97300193 0.99062935 1.\n",
      " 0.97887774 0.97184418 0.92903172 0.91780432 0.92704392 0.94309869\n",
      " 0.93916696 0.89124314 0.83853568 0.83569596 0.804373   0.82743933\n",
      " 0.85559515 0.86105593 0.82374784 0.82518942 0.80968086 0.79532991\n",
      " 0.81072929 0.78019265 0.77073453 0.78604659 0.81046718 0.83082499\n",
      " 0.83049742 0.82837857 0.82311443 0.82274301 0.8261288  0.80505013\n",
      " 0.79397565 0.78038929 0.72877398 0.69769113 0.67097703 0.66833397\n",
      " 0.67049655 0.66258921 0.623228   0.63740416 0.60487972 0.61593233\n",
      " 0.59930975 0.35739716 0.33478952 0.28950877 0.27483019 0.33380662\n",
      " 0.32869527 0.42214021 0.48764772 0.4272515  0.37509011 0.38507243\n",
      " 0.36466587 0.35033748 0.3578057  0.36510071 0.3828994  0.39092946\n",
      " 0.42507592 0.40870684 0.43806055 0.44937864 0.46168655 0.49527809\n",
      " 0.49545959 0.53852296 0.54079533 0.51524824 0.501697   0.52692765\n",
      " 0.55892807 0.56596452 0.57831848 0.55753499]\n",
      "22 day output [[0.5370832]]\n",
      "23 day input [0.88265868 0.88490858 0.85463405 0.91583838 0.94122022 0.95624816\n",
      " 0.94938952 0.93715729 0.9614687  0.99698564 0.97702099 0.96948509\n",
      " 0.99257329 0.94912741 0.8995871  0.9121033  0.92202003 0.90218643\n",
      " 0.92549314 0.98016641 0.97300193 0.99062935 1.         0.97887774\n",
      " 0.97184418 0.92903172 0.91780432 0.92704392 0.94309869 0.93916696\n",
      " 0.89124314 0.83853568 0.83569596 0.804373   0.82743933 0.85559515\n",
      " 0.86105593 0.82374784 0.82518942 0.80968086 0.79532991 0.81072929\n",
      " 0.78019265 0.77073453 0.78604659 0.81046718 0.83082499 0.83049742\n",
      " 0.82837857 0.82311443 0.82274301 0.8261288  0.80505013 0.79397565\n",
      " 0.78038929 0.72877398 0.69769113 0.67097703 0.66833397 0.67049655\n",
      " 0.66258921 0.623228   0.63740416 0.60487972 0.61593233 0.59930975\n",
      " 0.35739716 0.33478952 0.28950877 0.27483019 0.33380662 0.32869527\n",
      " 0.42214021 0.48764772 0.4272515  0.37509011 0.38507243 0.36466587\n",
      " 0.35033748 0.3578057  0.36510071 0.3828994  0.39092946 0.42507592\n",
      " 0.40870684 0.43806055 0.44937864 0.46168655 0.49527809 0.49545959\n",
      " 0.53852296 0.54079533 0.51524824 0.501697   0.52692765 0.55892807\n",
      " 0.56596452 0.57831848 0.55753499 0.53708321]\n",
      "23 day output [[0.51806223]]\n",
      "24 day input [0.88490858 0.85463405 0.91583838 0.94122022 0.95624816 0.94938952\n",
      " 0.93715729 0.9614687  0.99698564 0.97702099 0.96948509 0.99257329\n",
      " 0.94912741 0.8995871  0.9121033  0.92202003 0.90218643 0.92549314\n",
      " 0.98016641 0.97300193 0.99062935 1.         0.97887774 0.97184418\n",
      " 0.92903172 0.91780432 0.92704392 0.94309869 0.93916696 0.89124314\n",
      " 0.83853568 0.83569596 0.804373   0.82743933 0.85559515 0.86105593\n",
      " 0.82374784 0.82518942 0.80968086 0.79532991 0.81072929 0.78019265\n",
      " 0.77073453 0.78604659 0.81046718 0.83082499 0.83049742 0.82837857\n",
      " 0.82311443 0.82274301 0.8261288  0.80505013 0.79397565 0.78038929\n",
      " 0.72877398 0.69769113 0.67097703 0.66833397 0.67049655 0.66258921\n",
      " 0.623228   0.63740416 0.60487972 0.61593233 0.59930975 0.35739716\n",
      " 0.33478952 0.28950877 0.27483019 0.33380662 0.32869527 0.42214021\n",
      " 0.48764772 0.4272515  0.37509011 0.38507243 0.36466587 0.35033748\n",
      " 0.3578057  0.36510071 0.3828994  0.39092946 0.42507592 0.40870684\n",
      " 0.43806055 0.44937864 0.46168655 0.49527809 0.49545959 0.53852296\n",
      " 0.54079533 0.51524824 0.501697   0.52692765 0.55892807 0.56596452\n",
      " 0.57831848 0.55753499 0.53708321 0.51806223]\n",
      "24 day output [[0.5061173]]\n",
      "25 day input [0.85463405 0.91583838 0.94122022 0.95624816 0.94938952 0.93715729\n",
      " 0.9614687  0.99698564 0.97702099 0.96948509 0.99257329 0.94912741\n",
      " 0.8995871  0.9121033  0.92202003 0.90218643 0.92549314 0.98016641\n",
      " 0.97300193 0.99062935 1.         0.97887774 0.97184418 0.92903172\n",
      " 0.91780432 0.92704392 0.94309869 0.93916696 0.89124314 0.83853568\n",
      " 0.83569596 0.804373   0.82743933 0.85559515 0.86105593 0.82374784\n",
      " 0.82518942 0.80968086 0.79532991 0.81072929 0.78019265 0.77073453\n",
      " 0.78604659 0.81046718 0.83082499 0.83049742 0.82837857 0.82311443\n",
      " 0.82274301 0.8261288  0.80505013 0.79397565 0.78038929 0.72877398\n",
      " 0.69769113 0.67097703 0.66833397 0.67049655 0.66258921 0.623228\n",
      " 0.63740416 0.60487972 0.61593233 0.59930975 0.35739716 0.33478952\n",
      " 0.28950877 0.27483019 0.33380662 0.32869527 0.42214021 0.48764772\n",
      " 0.4272515  0.37509011 0.38507243 0.36466587 0.35033748 0.3578057\n",
      " 0.36510071 0.3828994  0.39092946 0.42507592 0.40870684 0.43806055\n",
      " 0.44937864 0.46168655 0.49527809 0.49545959 0.53852296 0.54079533\n",
      " 0.51524824 0.501697   0.52692765 0.55892807 0.56596452 0.57831848\n",
      " 0.55753499 0.53708321 0.51806223 0.50611728]\n",
      "25 day output [[0.5461537]]\n",
      "26 day input [0.91583838 0.94122022 0.95624816 0.94938952 0.93715729 0.9614687\n",
      " 0.99698564 0.97702099 0.96948509 0.99257329 0.94912741 0.8995871\n",
      " 0.9121033  0.92202003 0.90218643 0.92549314 0.98016641 0.97300193\n",
      " 0.99062935 1.         0.97887774 0.97184418 0.92903172 0.91780432\n",
      " 0.92704392 0.94309869 0.93916696 0.89124314 0.83853568 0.83569596\n",
      " 0.804373   0.82743933 0.85559515 0.86105593 0.82374784 0.82518942\n",
      " 0.80968086 0.79532991 0.81072929 0.78019265 0.77073453 0.78604659\n",
      " 0.81046718 0.83082499 0.83049742 0.82837857 0.82311443 0.82274301\n",
      " 0.8261288  0.80505013 0.79397565 0.78038929 0.72877398 0.69769113\n",
      " 0.67097703 0.66833397 0.67049655 0.66258921 0.623228   0.63740416\n",
      " 0.60487972 0.61593233 0.59930975 0.35739716 0.33478952 0.28950877\n",
      " 0.27483019 0.33380662 0.32869527 0.42214021 0.48764772 0.4272515\n",
      " 0.37509011 0.38507243 0.36466587 0.35033748 0.3578057  0.36510071\n",
      " 0.3828994  0.39092946 0.42507592 0.40870684 0.43806055 0.44937864\n",
      " 0.46168655 0.49527809 0.49545959 0.53852296 0.54079533 0.51524824\n",
      " 0.501697   0.52692765 0.55892807 0.56596452 0.57831848 0.55753499\n",
      " 0.53708321 0.51806223 0.50611728 0.54615372]\n",
      "26 day output [[0.5650772]]\n",
      "27 day input [0.94122022 0.95624816 0.94938952 0.93715729 0.9614687  0.99698564\n",
      " 0.97702099 0.96948509 0.99257329 0.94912741 0.8995871  0.9121033\n",
      " 0.92202003 0.90218643 0.92549314 0.98016641 0.97300193 0.99062935\n",
      " 1.         0.97887774 0.97184418 0.92903172 0.91780432 0.92704392\n",
      " 0.94309869 0.93916696 0.89124314 0.83853568 0.83569596 0.804373\n",
      " 0.82743933 0.85559515 0.86105593 0.82374784 0.82518942 0.80968086\n",
      " 0.79532991 0.81072929 0.78019265 0.77073453 0.78604659 0.81046718\n",
      " 0.83082499 0.83049742 0.82837857 0.82311443 0.82274301 0.8261288\n",
      " 0.80505013 0.79397565 0.78038929 0.72877398 0.69769113 0.67097703\n",
      " 0.66833397 0.67049655 0.66258921 0.623228   0.63740416 0.60487972\n",
      " 0.61593233 0.59930975 0.35739716 0.33478952 0.28950877 0.27483019\n",
      " 0.33380662 0.32869527 0.42214021 0.48764772 0.4272515  0.37509011\n",
      " 0.38507243 0.36466587 0.35033748 0.3578057  0.36510071 0.3828994\n",
      " 0.39092946 0.42507592 0.40870684 0.43806055 0.44937864 0.46168655\n",
      " 0.49527809 0.49545959 0.53852296 0.54079533 0.51524824 0.501697\n",
      " 0.52692765 0.55892807 0.56596452 0.57831848 0.55753499 0.53708321\n",
      " 0.51806223 0.50611728 0.54615372 0.56507719]\n",
      "27 day output [[0.5699724]]\n",
      "28 day input [0.95624816 0.94938952 0.93715729 0.9614687  0.99698564 0.97702099\n",
      " 0.96948509 0.99257329 0.94912741 0.8995871  0.9121033  0.92202003\n",
      " 0.90218643 0.92549314 0.98016641 0.97300193 0.99062935 1.\n",
      " 0.97887774 0.97184418 0.92903172 0.91780432 0.92704392 0.94309869\n",
      " 0.93916696 0.89124314 0.83853568 0.83569596 0.804373   0.82743933\n",
      " 0.85559515 0.86105593 0.82374784 0.82518942 0.80968086 0.79532991\n",
      " 0.81072929 0.78019265 0.77073453 0.78604659 0.81046718 0.83082499\n",
      " 0.83049742 0.82837857 0.82311443 0.82274301 0.8261288  0.80505013\n",
      " 0.79397565 0.78038929 0.72877398 0.69769113 0.67097703 0.66833397\n",
      " 0.67049655 0.66258921 0.623228   0.63740416 0.60487972 0.61593233\n",
      " 0.59930975 0.35739716 0.33478952 0.28950877 0.27483019 0.33380662\n",
      " 0.32869527 0.42214021 0.48764772 0.4272515  0.37509011 0.38507243\n",
      " 0.36466587 0.35033748 0.3578057  0.36510071 0.3828994  0.39092946\n",
      " 0.42507592 0.40870684 0.43806055 0.44937864 0.46168655 0.49527809\n",
      " 0.49545959 0.53852296 0.54079533 0.51524824 0.501697   0.52692765\n",
      " 0.55892807 0.56596452 0.57831848 0.55753499 0.53708321 0.51806223\n",
      " 0.50611728 0.54615372 0.56507719 0.5699724 ]\n",
      "28 day output [[0.56579244]]\n",
      "29 day input [0.94938952 0.93715729 0.9614687  0.99698564 0.97702099 0.96948509\n",
      " 0.99257329 0.94912741 0.8995871  0.9121033  0.92202003 0.90218643\n",
      " 0.92549314 0.98016641 0.97300193 0.99062935 1.         0.97887774\n",
      " 0.97184418 0.92903172 0.91780432 0.92704392 0.94309869 0.93916696\n",
      " 0.89124314 0.83853568 0.83569596 0.804373   0.82743933 0.85559515\n",
      " 0.86105593 0.82374784 0.82518942 0.80968086 0.79532991 0.81072929\n",
      " 0.78019265 0.77073453 0.78604659 0.81046718 0.83082499 0.83049742\n",
      " 0.82837857 0.82311443 0.82274301 0.8261288  0.80505013 0.79397565\n",
      " 0.78038929 0.72877398 0.69769113 0.67097703 0.66833397 0.67049655\n",
      " 0.66258921 0.623228   0.63740416 0.60487972 0.61593233 0.59930975\n",
      " 0.35739716 0.33478952 0.28950877 0.27483019 0.33380662 0.32869527\n",
      " 0.42214021 0.48764772 0.4272515  0.37509011 0.38507243 0.36466587\n",
      " 0.35033748 0.3578057  0.36510071 0.3828994  0.39092946 0.42507592\n",
      " 0.40870684 0.43806055 0.44937864 0.46168655 0.49527809 0.49545959\n",
      " 0.53852296 0.54079533 0.51524824 0.501697   0.52692765 0.55892807\n",
      " 0.56596452 0.57831848 0.55753499 0.53708321 0.51806223 0.50611728\n",
      " 0.54615372 0.56507719 0.5699724  0.56579244]\n",
      "29 day output [[0.551579]]\n",
      "[[0.3646658658981323], [0.3503374755382538], [0.35780569911003113], [0.3651007115840912], [0.3828994035720825], [0.3909294605255127], [0.4250759184360504], [0.4087068438529968], [0.43806055188179016], [0.44937863945961], [0.46168655157089233], [0.49527809023857117], [0.49545958638191223], [0.5385229587554932], [0.5407953262329102], [0.5152482390403748], [0.5016970038414001], [0.526927649974823], [0.5589280724525452], [0.5659645199775696], [0.5783184766769409], [0.5575349926948547], [0.5370832085609436], [0.5180622339248657], [0.5061172842979431], [0.546153724193573], [0.5650771856307983], [0.5699723958969116], [0.565792441368103], [0.5515789985656738]]\n"
     ]
    }
   ],
   "source": [
    "lst_output=[]\n",
    "n_steps=100\n",
    "i=0\n",
    "while(i<30):\n",
    "\n",
    "    if(len(temp_input)>100):\n",
    "        #print(temp_input)\n",
    "        x_input=np.array(temp_input[1:])\n",
    "        print(\"{} day input {}\".format(i,x_input))\n",
    "        x_input=x_input.reshape(1,-1)\n",
    "        x_input = x_input.reshape((1, n_steps, 1))\n",
    "        #print(x_input)\n",
    "        yhat = model.predict(x_input, verbose=0)\n",
    "        print(\"{} day output {}\".format(i,yhat))\n",
    "        temp_input.extend(yhat[0].tolist())\n",
    "        temp_input=temp_input[1:]\n",
    "        #print(temp_input)\n",
    "        lst_output.extend(yhat.tolist())\n",
    "        i=i+1\n",
    "    else:\n",
    "        x_input = x_input.reshape((1, n_steps,1))\n",
    "        yhat = model.predict(x_input, verbose=0)\n",
    "        print(yhat[0])\n",
    "        temp_input.extend(yhat[0].tolist())\n",
    "        print(len(temp_input))\n",
    "        lst_output.extend(yhat.tolist())\n",
    "        i=i+1\n",
    "\n",
    "\n",
    "print(lst_output)"
   ]
  },
  {
   "cell_type": "code",
   "execution_count": 133,
   "metadata": {
    "id": "mQ0-w_qvMZJo"
   },
   "outputs": [],
   "source": [
    "day_new=np.arange(1,101)\n",
    "day_pred=np.arange(101,131)"
   ]
  },
  {
   "cell_type": "code",
   "execution_count": 134,
   "metadata": {
    "colab": {
     "base_uri": "https://localhost:8080/"
    },
    "id": "cpc7wIMUId-X",
    "outputId": "856ad324-961f-48c4-9959-b0f6e04f91c6"
   },
   "outputs": [
    {
     "data": {
      "text/plain": [
       "1009"
      ]
     },
     "execution_count": 134,
     "metadata": {},
     "output_type": "execute_result"
    }
   ],
   "source": [
    "len(df1)"
   ]
  },
  {
   "cell_type": "code",
   "execution_count": 135,
   "metadata": {
    "colab": {
     "base_uri": "https://localhost:8080/",
     "height": 447
    },
    "id": "1uO9mKzKMCKx",
    "outputId": "6bc18b44-656f-4389-b186-0884368e0f1c"
   },
   "outputs": [
    {
     "data": {
      "text/plain": [
       "[<matplotlib.lines.Line2D at 0x1a521e8e710>]"
      ]
     },
     "execution_count": 135,
     "metadata": {},
     "output_type": "execute_result"
    },
    {
     "data": {
      "image/png": "[encoded data removed]",
      "text/plain": [
       "<Figure size 640x480 with 1 Axes>"
      ]
     },
     "metadata": {},
     "output_type": "display_data"
    }
   ],
   "source": [
    "plt.plot(day_new,scaler.inverse_transform(df1[909:]), color = 'b')\n",
    "plt.plot(day_pred,scaler.inverse_transform(lst_output), color = 'orange')"
   ]
  },
  {
   "cell_type": "code",
   "execution_count": 136,
   "metadata": {
    "colab": {
     "base_uri": "https://localhost:8080/",
     "height": 447
    },
    "id": "VoJpYBj0IqO0",
    "outputId": "00b5810c-57fb-4934-e946-03abf5b95762"
   },
   "outputs": [
    {
     "data": {
      "text/plain": [
       "[<matplotlib.lines.Line2D at 0x1a521eb1350>]"
      ]
     },
     "execution_count": 136,
     "metadata": {},
     "output_type": "execute_result"
    },
    {
     "data": {
      "image/png": "[encoded data removed]",
      "text/plain": [
       "<Figure size 640x480 with 1 Axes>"
      ]
     },
     "metadata": {},
     "output_type": "display_data"
    }
   ],
   "source": [
    "df3=df1.tolist()\n",
    "df3.extend(lst_output)\n",
    "plt.plot(df3[975:], color = 'g')"
   ]
  },
  {
   "cell_type": "code",
   "execution_count": 138,
   "metadata": {
    "colab": {
     "base_uri": "https://localhost:8080/",
     "height": 447
    },
    "id": "_RGLSFqWJX98",
    "outputId": "ebc604d0-0ded-41ea-ea16-39ae789c2280"
   },
   "outputs": [
    {
     "name": "stderr",
     "output_type": "stream",
     "text": [
      "No artists with labels found to put in legend.  Note that artists whose label start with an underscore are ignored when legend() is called with no argument.\n"
     ]
    },
    {
     "data": {
      "image/png": "[encoded data removed]",
      "text/plain": [
       "<Figure size 1200x600 with 1 Axes>"
      ]
     },
     "metadata": {},
     "output_type": "display_data"
    }
   ],
   "source": [
    "plt.figure(figsize=(12, 6))\n",
    "df3=scaler.inverse_transform(df3).tolist()\n",
    "plt.plot(df3, color ='m')\n",
    "plt.title('Futher \\\"Close Price\\\" Prediction for 30 Days')\n",
    "plt.xlabel('Date')\n",
    "plt.ylabel('Close Price')\n",
    "plt.xticks(range(0, len(df['Date']), 50), df['Date'][::50], rotation=45)\n",
    "plt.legend()\n",
    "plt.show()"
   ]
  }
 ],
 "metadata": {
  "colab": {
   "provenance": []
  },
  "kernelspec": {
   "display_name": "Python 3 (ipykernel)",
   "language": "python",
   "name": "python3"
  },
  "language_info": {
   "codemirror_mode": {
    "name": "ipython",
    "version": 3
   },
   "file_extension": ".py",
   "mimetype": "text/x-python",
   "name": "python",
   "nbconvert_exporter": "python",
   "pygments_lexer": "ipython3",
   "version": "3.11.3"
  }
 },
 "nbformat": 4,
 "nbformat_minor": 1
}
